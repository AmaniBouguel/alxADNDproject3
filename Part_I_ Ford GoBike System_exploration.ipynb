{
 "cells": [
  {
   "cell_type": "markdown",
   "metadata": {},
   "source": [
    "# Part I - Ford GoBike System\n",
    "## by Amani Bouguel\n",
    "\n",
    "## Table of Contents\n",
    "<a id=\"toc\"></a>\n",
    "<ul>\n",
    "<li><a href=\"#intro\">Introduction</a></li>\n",
    "<li><a href=\"#wrangling\">Preliminary Wrangling</a></li>\n",
    "<li><a href=\"#uni\">Univariate Exploration</a></li>\n",
    "<li><a href=\"#bi\">Bivariate Exploration</a></li>\n",
    "<li><a href=\"#multi\">Multivariate Exploration</a></li>\n",
    "<li><a href=\"#store\">Storing Data</a></li>\n",
    "<li><a href=\"#conclusion\">Conclusions</a></li>\n",
    "</ul>\n",
    "\n",
    "<a id='intro'></a>\n",
    "## Introduction\n",
    "The datasset to be explored contains information about individual trips made in a bike-sharing system covering the greater San Francisco Bay Area in February 2019.\n",
    "I chose this dataset for its important ecological impact. It would help to get a greener environment.\n",
    "Within this first part of the project, exporatory analysis will applied \n",
    "\n",
    "<a id='wrangling'></a>\n",
    "## Preliminary Wrangling\n"
   ]
  },
  {
   "cell_type": "code",
   "execution_count": 1,
   "metadata": {},
   "outputs": [],
   "source": [
    "# import all packages and set plots to be embedded inline\n",
    "import numpy as np\n",
    "import pandas as pd\n",
    "import matplotlib.pyplot as plt\n",
    "import seaborn as sb\n",
    "\n",
    "%matplotlib inline"
   ]
  },
  {
   "cell_type": "code",
   "execution_count": 2,
   "metadata": {},
   "outputs": [],
   "source": [
    "# load in the dataset into a pandas dataframe\n",
    "dfBike=pd.read_csv('201902-fordgobike-tripdata.csv')\n",
    "df=dfBike.copy()"
   ]
  },
  {
   "cell_type": "code",
   "execution_count": 3,
   "metadata": {},
   "outputs": [
    {
     "data": {
      "text/html": [
       "<div>\n",
       "<style scoped>\n",
       "    .dataframe tbody tr th:only-of-type {\n",
       "        vertical-align: middle;\n",
       "    }\n",
       "\n",
       "    .dataframe tbody tr th {\n",
       "        vertical-align: top;\n",
       "    }\n",
       "\n",
       "    .dataframe thead th {\n",
       "        text-align: right;\n",
       "    }\n",
       "</style>\n",
       "<table border=\"1\" class=\"dataframe\">\n",
       "  <thead>\n",
       "    <tr style=\"text-align: right;\">\n",
       "      <th></th>\n",
       "      <th>duration_sec</th>\n",
       "      <th>start_time</th>\n",
       "      <th>end_time</th>\n",
       "      <th>start_station_id</th>\n",
       "      <th>start_station_name</th>\n",
       "      <th>start_station_latitude</th>\n",
       "      <th>start_station_longitude</th>\n",
       "      <th>end_station_id</th>\n",
       "      <th>end_station_name</th>\n",
       "      <th>end_station_latitude</th>\n",
       "      <th>end_station_longitude</th>\n",
       "      <th>bike_id</th>\n",
       "      <th>user_type</th>\n",
       "      <th>member_birth_year</th>\n",
       "      <th>member_gender</th>\n",
       "      <th>bike_share_for_all_trip</th>\n",
       "    </tr>\n",
       "  </thead>\n",
       "  <tbody>\n",
       "    <tr>\n",
       "      <th>0</th>\n",
       "      <td>52185</td>\n",
       "      <td>2019-02-28 17:32:10.1450</td>\n",
       "      <td>2019-03-01 08:01:55.9750</td>\n",
       "      <td>21.0</td>\n",
       "      <td>Montgomery St BART Station (Market St at 2nd St)</td>\n",
       "      <td>37.789625</td>\n",
       "      <td>-122.400811</td>\n",
       "      <td>13.0</td>\n",
       "      <td>Commercial St at Montgomery St</td>\n",
       "      <td>37.794231</td>\n",
       "      <td>-122.402923</td>\n",
       "      <td>4902</td>\n",
       "      <td>Customer</td>\n",
       "      <td>1984.0</td>\n",
       "      <td>Male</td>\n",
       "      <td>No</td>\n",
       "    </tr>\n",
       "    <tr>\n",
       "      <th>1</th>\n",
       "      <td>42521</td>\n",
       "      <td>2019-02-28 18:53:21.7890</td>\n",
       "      <td>2019-03-01 06:42:03.0560</td>\n",
       "      <td>23.0</td>\n",
       "      <td>The Embarcadero at Steuart St</td>\n",
       "      <td>37.791464</td>\n",
       "      <td>-122.391034</td>\n",
       "      <td>81.0</td>\n",
       "      <td>Berry St at 4th St</td>\n",
       "      <td>37.775880</td>\n",
       "      <td>-122.393170</td>\n",
       "      <td>2535</td>\n",
       "      <td>Customer</td>\n",
       "      <td>NaN</td>\n",
       "      <td>NaN</td>\n",
       "      <td>No</td>\n",
       "    </tr>\n",
       "    <tr>\n",
       "      <th>2</th>\n",
       "      <td>61854</td>\n",
       "      <td>2019-02-28 12:13:13.2180</td>\n",
       "      <td>2019-03-01 05:24:08.1460</td>\n",
       "      <td>86.0</td>\n",
       "      <td>Market St at Dolores St</td>\n",
       "      <td>37.769305</td>\n",
       "      <td>-122.426826</td>\n",
       "      <td>3.0</td>\n",
       "      <td>Powell St BART Station (Market St at 4th St)</td>\n",
       "      <td>37.786375</td>\n",
       "      <td>-122.404904</td>\n",
       "      <td>5905</td>\n",
       "      <td>Customer</td>\n",
       "      <td>1972.0</td>\n",
       "      <td>Male</td>\n",
       "      <td>No</td>\n",
       "    </tr>\n",
       "    <tr>\n",
       "      <th>3</th>\n",
       "      <td>36490</td>\n",
       "      <td>2019-02-28 17:54:26.0100</td>\n",
       "      <td>2019-03-01 04:02:36.8420</td>\n",
       "      <td>375.0</td>\n",
       "      <td>Grove St at Masonic Ave</td>\n",
       "      <td>37.774836</td>\n",
       "      <td>-122.446546</td>\n",
       "      <td>70.0</td>\n",
       "      <td>Central Ave at Fell St</td>\n",
       "      <td>37.773311</td>\n",
       "      <td>-122.444293</td>\n",
       "      <td>6638</td>\n",
       "      <td>Subscriber</td>\n",
       "      <td>1989.0</td>\n",
       "      <td>Other</td>\n",
       "      <td>No</td>\n",
       "    </tr>\n",
       "    <tr>\n",
       "      <th>4</th>\n",
       "      <td>1585</td>\n",
       "      <td>2019-02-28 23:54:18.5490</td>\n",
       "      <td>2019-03-01 00:20:44.0740</td>\n",
       "      <td>7.0</td>\n",
       "      <td>Frank H Ogawa Plaza</td>\n",
       "      <td>37.804562</td>\n",
       "      <td>-122.271738</td>\n",
       "      <td>222.0</td>\n",
       "      <td>10th Ave at E 15th St</td>\n",
       "      <td>37.792714</td>\n",
       "      <td>-122.248780</td>\n",
       "      <td>4898</td>\n",
       "      <td>Subscriber</td>\n",
       "      <td>1974.0</td>\n",
       "      <td>Male</td>\n",
       "      <td>Yes</td>\n",
       "    </tr>\n",
       "  </tbody>\n",
       "</table>\n",
       "</div>"
      ],
      "text/plain": [
       "   duration_sec                start_time                  end_time  \\\n",
       "0         52185  2019-02-28 17:32:10.1450  2019-03-01 08:01:55.9750   \n",
       "1         42521  2019-02-28 18:53:21.7890  2019-03-01 06:42:03.0560   \n",
       "2         61854  2019-02-28 12:13:13.2180  2019-03-01 05:24:08.1460   \n",
       "3         36490  2019-02-28 17:54:26.0100  2019-03-01 04:02:36.8420   \n",
       "4          1585  2019-02-28 23:54:18.5490  2019-03-01 00:20:44.0740   \n",
       "\n",
       "   start_station_id                                start_station_name  \\\n",
       "0              21.0  Montgomery St BART Station (Market St at 2nd St)   \n",
       "1              23.0                     The Embarcadero at Steuart St   \n",
       "2              86.0                           Market St at Dolores St   \n",
       "3             375.0                           Grove St at Masonic Ave   \n",
       "4               7.0                               Frank H Ogawa Plaza   \n",
       "\n",
       "   start_station_latitude  start_station_longitude  end_station_id  \\\n",
       "0               37.789625              -122.400811            13.0   \n",
       "1               37.791464              -122.391034            81.0   \n",
       "2               37.769305              -122.426826             3.0   \n",
       "3               37.774836              -122.446546            70.0   \n",
       "4               37.804562              -122.271738           222.0   \n",
       "\n",
       "                               end_station_name  end_station_latitude  \\\n",
       "0                Commercial St at Montgomery St             37.794231   \n",
       "1                            Berry St at 4th St             37.775880   \n",
       "2  Powell St BART Station (Market St at 4th St)             37.786375   \n",
       "3                        Central Ave at Fell St             37.773311   \n",
       "4                         10th Ave at E 15th St             37.792714   \n",
       "\n",
       "   end_station_longitude  bike_id   user_type  member_birth_year  \\\n",
       "0            -122.402923     4902    Customer             1984.0   \n",
       "1            -122.393170     2535    Customer                NaN   \n",
       "2            -122.404904     5905    Customer             1972.0   \n",
       "3            -122.444293     6638  Subscriber             1989.0   \n",
       "4            -122.248780     4898  Subscriber             1974.0   \n",
       "\n",
       "  member_gender bike_share_for_all_trip  \n",
       "0          Male                      No  \n",
       "1           NaN                      No  \n",
       "2          Male                      No  \n",
       "3         Other                      No  \n",
       "4          Male                     Yes  "
      ]
     },
     "execution_count": 3,
     "metadata": {},
     "output_type": "execute_result"
    }
   ],
   "source": [
    "# check the first 5 rows in the dataset\n",
    "df.head()"
   ]
  },
  {
   "cell_type": "code",
   "execution_count": 4,
   "metadata": {},
   "outputs": [
    {
     "data": {
      "text/plain": [
       "(183412, 16)"
      ]
     },
     "execution_count": 4,
     "metadata": {},
     "output_type": "execute_result"
    }
   ],
   "source": [
    "# check the number of rows and columns\n",
    "df.shape"
   ]
  },
  {
   "cell_type": "code",
   "execution_count": 5,
   "metadata": {
    "scrolled": true
   },
   "outputs": [
    {
     "name": "stdout",
     "output_type": "stream",
     "text": [
      "<class 'pandas.core.frame.DataFrame'>\n",
      "RangeIndex: 183412 entries, 0 to 183411\n",
      "Data columns (total 16 columns):\n",
      " #   Column                   Non-Null Count   Dtype  \n",
      "---  ------                   --------------   -----  \n",
      " 0   duration_sec             183412 non-null  int64  \n",
      " 1   start_time               183412 non-null  object \n",
      " 2   end_time                 183412 non-null  object \n",
      " 3   start_station_id         183215 non-null  float64\n",
      " 4   start_station_name       183215 non-null  object \n",
      " 5   start_station_latitude   183412 non-null  float64\n",
      " 6   start_station_longitude  183412 non-null  float64\n",
      " 7   end_station_id           183215 non-null  float64\n",
      " 8   end_station_name         183215 non-null  object \n",
      " 9   end_station_latitude     183412 non-null  float64\n",
      " 10  end_station_longitude    183412 non-null  float64\n",
      " 11  bike_id                  183412 non-null  int64  \n",
      " 12  user_type                183412 non-null  object \n",
      " 13  member_birth_year        175147 non-null  float64\n",
      " 14  member_gender            175147 non-null  object \n",
      " 15  bike_share_for_all_trip  183412 non-null  object \n",
      "dtypes: float64(7), int64(2), object(7)\n",
      "memory usage: 22.4+ MB\n"
     ]
    }
   ],
   "source": [
    "# get a concise summary of the dataset\n",
    "df.info()"
   ]
  },
  {
   "cell_type": "markdown",
   "metadata": {},
   "source": [
    "We can notice 2 main things: \n",
    "<ul>\n",
    "<li> there are some missing data in the dataset </li>\n",
    "<li> the timestamp columns are set to object</li>\n",
    "</ul>"
   ]
  },
  {
   "cell_type": "code",
   "execution_count": 6,
   "metadata": {
    "scrolled": true
   },
   "outputs": [
    {
     "data": {
      "text/plain": [
       "duration_sec                  0\n",
       "start_time                    0\n",
       "end_time                      0\n",
       "start_station_id            197\n",
       "start_station_name          197\n",
       "start_station_latitude        0\n",
       "start_station_longitude       0\n",
       "end_station_id              197\n",
       "end_station_name            197\n",
       "end_station_latitude          0\n",
       "end_station_longitude         0\n",
       "bike_id                       0\n",
       "user_type                     0\n",
       "member_birth_year          8265\n",
       "member_gender              8265\n",
       "bike_share_for_all_trip       0\n",
       "dtype: int64"
      ]
     },
     "execution_count": 6,
     "metadata": {},
     "output_type": "execute_result"
    }
   ],
   "source": [
    "# check the sum of null cells in each column\n",
    "df.isnull().sum()"
   ]
  },
  {
   "cell_type": "markdown",
   "metadata": {},
   "source": [
    "The columns with missing data are:\n",
    "1. start_station_id\n",
    "2. start_station_name\n",
    "3. end_station_id \n",
    "4. end_station_name\n",
    "5. member_birth_year\n",
    "6. member_gender\n",
    "\n",
    "As the main target of the project is exploratory analysis using visualizations. I will not clean missing data at this step. If needed, data cleaning will be performed during data exploration. </br> Let's check general statistics and if there are some duplicated data."
   ]
  },
  {
   "cell_type": "code",
   "execution_count": 7,
   "metadata": {},
   "outputs": [
    {
     "data": {
      "text/plain": [
       "0"
      ]
     },
     "execution_count": 7,
     "metadata": {},
     "output_type": "execute_result"
    }
   ],
   "source": [
    "# check if there are some duplicated data\n",
    "sum(df.duplicated())"
   ]
  },
  {
   "cell_type": "markdown",
   "metadata": {},
   "source": [
    "There are not duplicated data"
   ]
  },
  {
   "cell_type": "code",
   "execution_count": 8,
   "metadata": {
    "scrolled": true
   },
   "outputs": [
    {
     "data": {
      "text/html": [
       "<div>\n",
       "<style scoped>\n",
       "    .dataframe tbody tr th:only-of-type {\n",
       "        vertical-align: middle;\n",
       "    }\n",
       "\n",
       "    .dataframe tbody tr th {\n",
       "        vertical-align: top;\n",
       "    }\n",
       "\n",
       "    .dataframe thead th {\n",
       "        text-align: right;\n",
       "    }\n",
       "</style>\n",
       "<table border=\"1\" class=\"dataframe\">\n",
       "  <thead>\n",
       "    <tr style=\"text-align: right;\">\n",
       "      <th></th>\n",
       "      <th>duration_sec</th>\n",
       "      <th>start_time</th>\n",
       "      <th>end_time</th>\n",
       "      <th>start_station_id</th>\n",
       "      <th>start_station_name</th>\n",
       "      <th>start_station_latitude</th>\n",
       "      <th>start_station_longitude</th>\n",
       "      <th>end_station_id</th>\n",
       "      <th>end_station_name</th>\n",
       "      <th>end_station_latitude</th>\n",
       "      <th>end_station_longitude</th>\n",
       "      <th>bike_id</th>\n",
       "      <th>user_type</th>\n",
       "      <th>member_birth_year</th>\n",
       "      <th>member_gender</th>\n",
       "      <th>bike_share_for_all_trip</th>\n",
       "    </tr>\n",
       "  </thead>\n",
       "  <tbody>\n",
       "    <tr>\n",
       "      <th>count</th>\n",
       "      <td>183412.000000</td>\n",
       "      <td>183412</td>\n",
       "      <td>183412</td>\n",
       "      <td>183215.000000</td>\n",
       "      <td>183215</td>\n",
       "      <td>183412.000000</td>\n",
       "      <td>183412.000000</td>\n",
       "      <td>183215.000000</td>\n",
       "      <td>183215</td>\n",
       "      <td>183412.000000</td>\n",
       "      <td>183412.000000</td>\n",
       "      <td>183412.000000</td>\n",
       "      <td>183412</td>\n",
       "      <td>175147.000000</td>\n",
       "      <td>175147</td>\n",
       "      <td>183412</td>\n",
       "    </tr>\n",
       "    <tr>\n",
       "      <th>unique</th>\n",
       "      <td>NaN</td>\n",
       "      <td>183401</td>\n",
       "      <td>183397</td>\n",
       "      <td>NaN</td>\n",
       "      <td>329</td>\n",
       "      <td>NaN</td>\n",
       "      <td>NaN</td>\n",
       "      <td>NaN</td>\n",
       "      <td>329</td>\n",
       "      <td>NaN</td>\n",
       "      <td>NaN</td>\n",
       "      <td>NaN</td>\n",
       "      <td>2</td>\n",
       "      <td>NaN</td>\n",
       "      <td>3</td>\n",
       "      <td>2</td>\n",
       "    </tr>\n",
       "    <tr>\n",
       "      <th>top</th>\n",
       "      <td>NaN</td>\n",
       "      <td>2019-02-25 08:52:07.5820</td>\n",
       "      <td>2019-02-11 08:03:22.6020</td>\n",
       "      <td>NaN</td>\n",
       "      <td>Market St at 10th St</td>\n",
       "      <td>NaN</td>\n",
       "      <td>NaN</td>\n",
       "      <td>NaN</td>\n",
       "      <td>San Francisco Caltrain Station 2  (Townsend St...</td>\n",
       "      <td>NaN</td>\n",
       "      <td>NaN</td>\n",
       "      <td>NaN</td>\n",
       "      <td>Subscriber</td>\n",
       "      <td>NaN</td>\n",
       "      <td>Male</td>\n",
       "      <td>No</td>\n",
       "    </tr>\n",
       "    <tr>\n",
       "      <th>freq</th>\n",
       "      <td>NaN</td>\n",
       "      <td>2</td>\n",
       "      <td>2</td>\n",
       "      <td>NaN</td>\n",
       "      <td>3904</td>\n",
       "      <td>NaN</td>\n",
       "      <td>NaN</td>\n",
       "      <td>NaN</td>\n",
       "      <td>4857</td>\n",
       "      <td>NaN</td>\n",
       "      <td>NaN</td>\n",
       "      <td>NaN</td>\n",
       "      <td>163544</td>\n",
       "      <td>NaN</td>\n",
       "      <td>130651</td>\n",
       "      <td>166053</td>\n",
       "    </tr>\n",
       "    <tr>\n",
       "      <th>mean</th>\n",
       "      <td>726.078435</td>\n",
       "      <td>NaN</td>\n",
       "      <td>NaN</td>\n",
       "      <td>138.590427</td>\n",
       "      <td>NaN</td>\n",
       "      <td>37.771223</td>\n",
       "      <td>-122.352664</td>\n",
       "      <td>136.249123</td>\n",
       "      <td>NaN</td>\n",
       "      <td>37.771427</td>\n",
       "      <td>-122.352250</td>\n",
       "      <td>4472.906375</td>\n",
       "      <td>NaN</td>\n",
       "      <td>1984.806437</td>\n",
       "      <td>NaN</td>\n",
       "      <td>NaN</td>\n",
       "    </tr>\n",
       "    <tr>\n",
       "      <th>std</th>\n",
       "      <td>1794.389780</td>\n",
       "      <td>NaN</td>\n",
       "      <td>NaN</td>\n",
       "      <td>111.778864</td>\n",
       "      <td>NaN</td>\n",
       "      <td>0.099581</td>\n",
       "      <td>0.117097</td>\n",
       "      <td>111.515131</td>\n",
       "      <td>NaN</td>\n",
       "      <td>0.099490</td>\n",
       "      <td>0.116673</td>\n",
       "      <td>1664.383394</td>\n",
       "      <td>NaN</td>\n",
       "      <td>10.116689</td>\n",
       "      <td>NaN</td>\n",
       "      <td>NaN</td>\n",
       "    </tr>\n",
       "    <tr>\n",
       "      <th>min</th>\n",
       "      <td>61.000000</td>\n",
       "      <td>NaN</td>\n",
       "      <td>NaN</td>\n",
       "      <td>3.000000</td>\n",
       "      <td>NaN</td>\n",
       "      <td>37.317298</td>\n",
       "      <td>-122.453704</td>\n",
       "      <td>3.000000</td>\n",
       "      <td>NaN</td>\n",
       "      <td>37.317298</td>\n",
       "      <td>-122.453704</td>\n",
       "      <td>11.000000</td>\n",
       "      <td>NaN</td>\n",
       "      <td>1878.000000</td>\n",
       "      <td>NaN</td>\n",
       "      <td>NaN</td>\n",
       "    </tr>\n",
       "    <tr>\n",
       "      <th>25%</th>\n",
       "      <td>325.000000</td>\n",
       "      <td>NaN</td>\n",
       "      <td>NaN</td>\n",
       "      <td>47.000000</td>\n",
       "      <td>NaN</td>\n",
       "      <td>37.770083</td>\n",
       "      <td>-122.412408</td>\n",
       "      <td>44.000000</td>\n",
       "      <td>NaN</td>\n",
       "      <td>37.770407</td>\n",
       "      <td>-122.411726</td>\n",
       "      <td>3777.000000</td>\n",
       "      <td>NaN</td>\n",
       "      <td>1980.000000</td>\n",
       "      <td>NaN</td>\n",
       "      <td>NaN</td>\n",
       "    </tr>\n",
       "    <tr>\n",
       "      <th>50%</th>\n",
       "      <td>514.000000</td>\n",
       "      <td>NaN</td>\n",
       "      <td>NaN</td>\n",
       "      <td>104.000000</td>\n",
       "      <td>NaN</td>\n",
       "      <td>37.780760</td>\n",
       "      <td>-122.398285</td>\n",
       "      <td>100.000000</td>\n",
       "      <td>NaN</td>\n",
       "      <td>37.781010</td>\n",
       "      <td>-122.398279</td>\n",
       "      <td>4958.000000</td>\n",
       "      <td>NaN</td>\n",
       "      <td>1987.000000</td>\n",
       "      <td>NaN</td>\n",
       "      <td>NaN</td>\n",
       "    </tr>\n",
       "    <tr>\n",
       "      <th>75%</th>\n",
       "      <td>796.000000</td>\n",
       "      <td>NaN</td>\n",
       "      <td>NaN</td>\n",
       "      <td>239.000000</td>\n",
       "      <td>NaN</td>\n",
       "      <td>37.797280</td>\n",
       "      <td>-122.286533</td>\n",
       "      <td>235.000000</td>\n",
       "      <td>NaN</td>\n",
       "      <td>37.797320</td>\n",
       "      <td>-122.288045</td>\n",
       "      <td>5502.000000</td>\n",
       "      <td>NaN</td>\n",
       "      <td>1992.000000</td>\n",
       "      <td>NaN</td>\n",
       "      <td>NaN</td>\n",
       "    </tr>\n",
       "    <tr>\n",
       "      <th>max</th>\n",
       "      <td>85444.000000</td>\n",
       "      <td>NaN</td>\n",
       "      <td>NaN</td>\n",
       "      <td>398.000000</td>\n",
       "      <td>NaN</td>\n",
       "      <td>37.880222</td>\n",
       "      <td>-121.874119</td>\n",
       "      <td>398.000000</td>\n",
       "      <td>NaN</td>\n",
       "      <td>37.880222</td>\n",
       "      <td>-121.874119</td>\n",
       "      <td>6645.000000</td>\n",
       "      <td>NaN</td>\n",
       "      <td>2001.000000</td>\n",
       "      <td>NaN</td>\n",
       "      <td>NaN</td>\n",
       "    </tr>\n",
       "  </tbody>\n",
       "</table>\n",
       "</div>"
      ],
      "text/plain": [
       "         duration_sec                start_time                  end_time  \\\n",
       "count   183412.000000                    183412                    183412   \n",
       "unique            NaN                    183401                    183397   \n",
       "top               NaN  2019-02-25 08:52:07.5820  2019-02-11 08:03:22.6020   \n",
       "freq              NaN                         2                         2   \n",
       "mean       726.078435                       NaN                       NaN   \n",
       "std       1794.389780                       NaN                       NaN   \n",
       "min         61.000000                       NaN                       NaN   \n",
       "25%        325.000000                       NaN                       NaN   \n",
       "50%        514.000000                       NaN                       NaN   \n",
       "75%        796.000000                       NaN                       NaN   \n",
       "max      85444.000000                       NaN                       NaN   \n",
       "\n",
       "        start_station_id    start_station_name  start_station_latitude  \\\n",
       "count      183215.000000                183215           183412.000000   \n",
       "unique               NaN                   329                     NaN   \n",
       "top                  NaN  Market St at 10th St                     NaN   \n",
       "freq                 NaN                  3904                     NaN   \n",
       "mean          138.590427                   NaN               37.771223   \n",
       "std           111.778864                   NaN                0.099581   \n",
       "min             3.000000                   NaN               37.317298   \n",
       "25%            47.000000                   NaN               37.770083   \n",
       "50%           104.000000                   NaN               37.780760   \n",
       "75%           239.000000                   NaN               37.797280   \n",
       "max           398.000000                   NaN               37.880222   \n",
       "\n",
       "        start_station_longitude  end_station_id  \\\n",
       "count             183412.000000   183215.000000   \n",
       "unique                      NaN             NaN   \n",
       "top                         NaN             NaN   \n",
       "freq                        NaN             NaN   \n",
       "mean                -122.352664      136.249123   \n",
       "std                    0.117097      111.515131   \n",
       "min                 -122.453704        3.000000   \n",
       "25%                 -122.412408       44.000000   \n",
       "50%                 -122.398285      100.000000   \n",
       "75%                 -122.286533      235.000000   \n",
       "max                 -121.874119      398.000000   \n",
       "\n",
       "                                         end_station_name  \\\n",
       "count                                              183215   \n",
       "unique                                                329   \n",
       "top     San Francisco Caltrain Station 2  (Townsend St...   \n",
       "freq                                                 4857   \n",
       "mean                                                  NaN   \n",
       "std                                                   NaN   \n",
       "min                                                   NaN   \n",
       "25%                                                   NaN   \n",
       "50%                                                   NaN   \n",
       "75%                                                   NaN   \n",
       "max                                                   NaN   \n",
       "\n",
       "        end_station_latitude  end_station_longitude        bike_id  \\\n",
       "count          183412.000000          183412.000000  183412.000000   \n",
       "unique                   NaN                    NaN            NaN   \n",
       "top                      NaN                    NaN            NaN   \n",
       "freq                     NaN                    NaN            NaN   \n",
       "mean               37.771427            -122.352250    4472.906375   \n",
       "std                 0.099490               0.116673    1664.383394   \n",
       "min                37.317298            -122.453704      11.000000   \n",
       "25%                37.770407            -122.411726    3777.000000   \n",
       "50%                37.781010            -122.398279    4958.000000   \n",
       "75%                37.797320            -122.288045    5502.000000   \n",
       "max                37.880222            -121.874119    6645.000000   \n",
       "\n",
       "         user_type  member_birth_year member_gender bike_share_for_all_trip  \n",
       "count       183412      175147.000000        175147                  183412  \n",
       "unique           2                NaN             3                       2  \n",
       "top     Subscriber                NaN          Male                      No  \n",
       "freq        163544                NaN        130651                  166053  \n",
       "mean           NaN        1984.806437           NaN                     NaN  \n",
       "std            NaN          10.116689           NaN                     NaN  \n",
       "min            NaN        1878.000000           NaN                     NaN  \n",
       "25%            NaN        1980.000000           NaN                     NaN  \n",
       "50%            NaN        1987.000000           NaN                     NaN  \n",
       "75%            NaN        1992.000000           NaN                     NaN  \n",
       "max            NaN        2001.000000           NaN                     NaN  "
      ]
     },
     "execution_count": 8,
     "metadata": {},
     "output_type": "execute_result"
    }
   ],
   "source": [
    "#general statitics \n",
    "df.describe(include='all')"
   ]
  },
  {
   "cell_type": "markdown",
   "metadata": {},
   "source": [
    "bike_share_for_all_trip column type shall be altered from object to boolean"
   ]
  },
  {
   "cell_type": "markdown",
   "metadata": {},
   "source": [
    "### Cleaning issue 1:\n",
    "Timestamp's data type shall be altered from object to datetime"
   ]
  },
  {
   "cell_type": "markdown",
   "metadata": {},
   "source": [
    "#### Define \n",
    "set timestamp data type to datetime"
   ]
  },
  {
   "cell_type": "markdown",
   "metadata": {},
   "source": [
    "#### Code"
   ]
  },
  {
   "cell_type": "code",
   "execution_count": 9,
   "metadata": {},
   "outputs": [],
   "source": [
    "df.start_time = pd.to_datetime(df.start_time)"
   ]
  },
  {
   "cell_type": "code",
   "execution_count": 10,
   "metadata": {},
   "outputs": [],
   "source": [
    "df.end_time = pd.to_datetime(df.end_time)"
   ]
  },
  {
   "cell_type": "markdown",
   "metadata": {},
   "source": [
    "#### Test"
   ]
  },
  {
   "cell_type": "code",
   "execution_count": 11,
   "metadata": {
    "scrolled": false
   },
   "outputs": [
    {
     "name": "stdout",
     "output_type": "stream",
     "text": [
      "<class 'pandas.core.frame.DataFrame'>\n",
      "RangeIndex: 183412 entries, 0 to 183411\n",
      "Data columns (total 16 columns):\n",
      " #   Column                   Non-Null Count   Dtype         \n",
      "---  ------                   --------------   -----         \n",
      " 0   duration_sec             183412 non-null  int64         \n",
      " 1   start_time               183412 non-null  datetime64[ns]\n",
      " 2   end_time                 183412 non-null  datetime64[ns]\n",
      " 3   start_station_id         183215 non-null  float64       \n",
      " 4   start_station_name       183215 non-null  object        \n",
      " 5   start_station_latitude   183412 non-null  float64       \n",
      " 6   start_station_longitude  183412 non-null  float64       \n",
      " 7   end_station_id           183215 non-null  float64       \n",
      " 8   end_station_name         183215 non-null  object        \n",
      " 9   end_station_latitude     183412 non-null  float64       \n",
      " 10  end_station_longitude    183412 non-null  float64       \n",
      " 11  bike_id                  183412 non-null  int64         \n",
      " 12  user_type                183412 non-null  object        \n",
      " 13  member_birth_year        175147 non-null  float64       \n",
      " 14  member_gender            175147 non-null  object        \n",
      " 15  bike_share_for_all_trip  183412 non-null  object        \n",
      "dtypes: datetime64[ns](2), float64(7), int64(2), object(5)\n",
      "memory usage: 22.4+ MB\n"
     ]
    }
   ],
   "source": [
    "df.info()"
   ]
  },
  {
   "cell_type": "markdown",
   "metadata": {},
   "source": [
    "### Cleaning issue2:\n",
    "bike_share_for_all_trip seems to be a boolean column. So we need to change its type."
   ]
  },
  {
   "cell_type": "markdown",
   "metadata": {},
   "source": [
    "#### Define \n",
    "set bike_share_for_all_trip data type to boolean"
   ]
  },
  {
   "cell_type": "markdown",
   "metadata": {},
   "source": [
    "#### Code"
   ]
  },
  {
   "cell_type": "code",
   "execution_count": 12,
   "metadata": {
    "scrolled": true
   },
   "outputs": [
    {
     "data": {
      "text/plain": [
       "No     166053\n",
       "Yes     17359\n",
       "Name: bike_share_for_all_trip, dtype: int64"
      ]
     },
     "execution_count": 12,
     "metadata": {},
     "output_type": "execute_result"
    }
   ],
   "source": [
    "df.bike_share_for_all_trip.value_counts()"
   ]
  },
  {
   "cell_type": "code",
   "execution_count": 13,
   "metadata": {},
   "outputs": [],
   "source": [
    "df.bike_share_for_all_trip = (df.bike_share_for_all_trip == 'Yes')"
   ]
  },
  {
   "cell_type": "markdown",
   "metadata": {},
   "source": [
    "#### Test"
   ]
  },
  {
   "cell_type": "code",
   "execution_count": 14,
   "metadata": {
    "scrolled": true
   },
   "outputs": [
    {
     "name": "stdout",
     "output_type": "stream",
     "text": [
      "<class 'pandas.core.frame.DataFrame'>\n",
      "RangeIndex: 183412 entries, 0 to 183411\n",
      "Data columns (total 16 columns):\n",
      " #   Column                   Non-Null Count   Dtype         \n",
      "---  ------                   --------------   -----         \n",
      " 0   duration_sec             183412 non-null  int64         \n",
      " 1   start_time               183412 non-null  datetime64[ns]\n",
      " 2   end_time                 183412 non-null  datetime64[ns]\n",
      " 3   start_station_id         183215 non-null  float64       \n",
      " 4   start_station_name       183215 non-null  object        \n",
      " 5   start_station_latitude   183412 non-null  float64       \n",
      " 6   start_station_longitude  183412 non-null  float64       \n",
      " 7   end_station_id           183215 non-null  float64       \n",
      " 8   end_station_name         183215 non-null  object        \n",
      " 9   end_station_latitude     183412 non-null  float64       \n",
      " 10  end_station_longitude    183412 non-null  float64       \n",
      " 11  bike_id                  183412 non-null  int64         \n",
      " 12  user_type                183412 non-null  object        \n",
      " 13  member_birth_year        175147 non-null  float64       \n",
      " 14  member_gender            175147 non-null  object        \n",
      " 15  bike_share_for_all_trip  183412 non-null  bool          \n",
      "dtypes: bool(1), datetime64[ns](2), float64(7), int64(2), object(4)\n",
      "memory usage: 21.2+ MB\n"
     ]
    }
   ],
   "source": [
    "df.info()"
   ]
  },
  {
   "cell_type": "markdown",
   "metadata": {},
   "source": [
    "### What is the structure of your dataset?\n",
    "\n",
    "> The dataset contains 183412 rows and 16 columns. </br>\n",
    "There are no duplicated entries but we can notice several missing ones in six columns. </br>\n",
    "We can classify the feature into:\n",
    "> <ul>\n",
    "    <li>9 numerical</li>\n",
    "    <li>2 datetime</li>\n",
    "    <li>1 boolean</li>\n",
    "    <li>4 strings</li>\n",
    "    \n",
    "</ul>\n",
    "\n",
    "### What is/are the main feature(s) of interest in your dataset?\n",
    "\n",
    "> The main feature are those related to the trip duration, the start time, the customer's type and gender and the station. I believe thes features would explain the usage way of Ford GoBike System.\n",
    "\n",
    "### What features in the dataset do you think will help support your investigation into your feature(s) of interest?\n",
    "\n",
    "> I believe that all the features will be helpful to support my investigation. I will try to explore them based on the project requirements"
   ]
  },
  {
   "cell_type": "markdown",
   "metadata": {},
   "source": [
    "<a href=\"#toc\" role=\"button\" aria-pressed=\"true\" >⬆️Back to Table of Contents ⬆️</a>"
   ]
  },
  {
   "cell_type": "markdown",
   "metadata": {},
   "source": [
    "<a id='uni'></a>\n",
    "## Univariate Exploration"
   ]
  },
  {
   "cell_type": "markdown",
   "metadata": {},
   "source": [
    "### 1. visualizing trips' duration:"
   ]
  },
  {
   "cell_type": "markdown",
   "metadata": {},
   "source": [
    "#### Question\n",
    "What is the duration distribution of trips. </br>\n",
    "Do customer's use Ford GoBike system for long duration trips or short ones?"
   ]
  },
  {
   "cell_type": "markdown",
   "metadata": {},
   "source": [
    "#### Code"
   ]
  },
  {
   "cell_type": "code",
   "execution_count": 15,
   "metadata": {
    "scrolled": true
   },
   "outputs": [],
   "source": [
    "def histogram(fig, df, axis, title,xlabel,ylabel):\n",
    "    \"\"\"\n",
    "    This function is used to draw histograms\n",
    "    \"\"\"\n",
    "    plt.figure(figsize=fig)\n",
    "    plt.hist(data = df, x = axis)\n",
    "    plt.title(title)\n",
    "    plt.xlabel(xlabel)\n",
    "    plt.ylabel(ylabel)\n",
    "    plt.show()"
   ]
  },
  {
   "cell_type": "code",
   "execution_count": 16,
   "metadata": {
    "scrolled": true
   },
   "outputs": [
    {
     "data": {
      "image/png": "[encoded data removed]",
      "text/plain": [
       "<Figure size 576x576 with 1 Axes>"
      ]
     },
     "metadata": {
      "needs_background": "light"
     },
     "output_type": "display_data"
    }
   ],
   "source": [
    "histogram([8,8], df, 'duration_sec', 'Distribution of Trips Durations','Duration(sec)','Trips number')"
   ]
  },
  {
   "cell_type": "markdown",
   "metadata": {},
   "source": [
    "It seems that the axis scale does not fit with the distribution. We will need to customized"
   ]
  },
  {
   "cell_type": "code",
   "execution_count": 17,
   "metadata": {},
   "outputs": [],
   "source": [
    "def histogramTicks(fig, df, axis, title,xlabel,ylabel,l1,l2, scale):\n",
    "    \"\"\"\n",
    "    This function is used to draw histograms with xticks option\n",
    "    \"\"\"\n",
    "    plt.figure(figsize=fig)\n",
    "    plt.hist(data = df, x = axis)\n",
    "    plt.title(title)\n",
    "    plt.xlabel(xlabel)\n",
    "    plt.ylabel(ylabel)\n",
    "    plt.xscale(scale)\n",
    "    plt.xticks(l1, l2)\n",
    "    plt.show()"
   ]
  },
  {
   "cell_type": "code",
   "execution_count": 18,
   "metadata": {},
   "outputs": [
    {
     "data": {
      "image/png": "[encoded data removed]",
      "text/plain": [
       "<Figure size 576x576 with 1 Axes>"
      ]
     },
     "metadata": {
      "needs_background": "light"
     },
     "output_type": "display_data"
    }
   ],
   "source": [
    "l1=[250,500, 1e3, 2e3, 5e3,7e3, 1e4]\n",
    "l2=[250,500, '1000', '2000', '5k', '9k','10k']\n",
    "histogramTicks([8,8], df, 'duration_sec', 'Distribution of Trips Durations','Duration(sec)','Trips number',l1,l2,'log')"
   ]
  },
  {
   "cell_type": "markdown",
   "metadata": {},
   "source": [
    "#### Observations"
   ]
  },
  {
   "cell_type": "markdown",
   "metadata": {
    "scrolled": true
   },
   "source": [
    "Customers use Ford GoBike System when the trips durations is less than 10000sec which is the about to 2 hours and 47minutes"
   ]
  },
  {
   "cell_type": "markdown",
   "metadata": {},
   "source": [
    "### 2. visualizing trips number per weekdays:"
   ]
  },
  {
   "cell_type": "markdown",
   "metadata": {},
   "source": [
    "#### Question\n",
    "Is there a special weekday the customers tend to use For GoBike System?"
   ]
  },
  {
   "cell_type": "markdown",
   "metadata": {},
   "source": [
    "#### Code"
   ]
  },
  {
   "cell_type": "code",
   "execution_count": 19,
   "metadata": {
    "scrolled": true
   },
   "outputs": [],
   "source": [
    "def bar(fig, keys, values, xlabel, ylabel,title, l1, l2):\n",
    "    \"\"\"\n",
    "    This function is used to draw bar charts\n",
    "    \"\"\"\n",
    "    plt.figure(figsize=fig)\n",
    "    plt.bar(x = keys, height = values )\n",
    "    plt.xlabel(xlabel)\n",
    "    plt.ylabel(ylabel)\n",
    "    plt.xticks(l1, l2)\n",
    "    plt.title(title)\n",
    "    plt.show()"
   ]
  },
  {
   "cell_type": "code",
   "execution_count": 20,
   "metadata": {
    "scrolled": false
   },
   "outputs": [
    {
     "data": {
      "image/png": "[encoded data removed]",
      "text/plain": [
       "<Figure size 576x576 with 1 Axes>"
      ]
     },
     "metadata": {
      "needs_background": "light"
     },
     "output_type": "display_data"
    }
   ],
   "source": [
    "dayOfWeek=df.start_time.dt.dayofweek\n",
    "#In pandas.Series.dt.dayofweek, 0 means Monday\n",
    "l1=[0,1,2,3,4,5,6]\n",
    "l2=[\"Mon\",\"Tue\",\"Wed\",\"Thu\",\"Fri\",\"Sat\",\"Sun\"]\n",
    "bar([8,8],dayOfWeek.value_counts().keys(), dayOfWeek.value_counts(), \"Day of the week for start time\" , \"Trips number\", \"Trips per day of the week\", l1, l2)"
   ]
  },
  {
   "cell_type": "markdown",
   "metadata": {},
   "source": [
    "#### Observations"
   ]
  },
  {
   "cell_type": "markdown",
   "metadata": {
    "scrolled": true
   },
   "source": [
    "Customers tend to use Ford GoBike System on Thursday then on Tuesday. finding a spcial explanation for these 2 specific days is hard."
   ]
  },
  {
   "cell_type": "markdown",
   "metadata": {},
   "source": [
    "### 3. visualizing users' age distribution:"
   ]
  },
  {
   "cell_type": "markdown",
   "metadata": {},
   "source": [
    "#### Question\n",
    "What is the age distribution of Ford GoBike system users?"
   ]
  },
  {
   "cell_type": "markdown",
   "metadata": {},
   "source": [
    "#### Code"
   ]
  },
  {
   "cell_type": "code",
   "execution_count": 21,
   "metadata": {},
   "outputs": [
    {
     "data": {
      "text/plain": [
       "1878.0"
      ]
     },
     "execution_count": 21,
     "metadata": {},
     "output_type": "execute_result"
    }
   ],
   "source": [
    "# check the min of member_birth_year\n",
    "df.member_birth_year.min()"
   ]
  },
  {
   "cell_type": "markdown",
   "metadata": {},
   "source": [
    "This entry is illogic. The user's age is 141.</br>\n",
    "Let's check the number of users with this entry"
   ]
  },
  {
   "cell_type": "code",
   "execution_count": 22,
   "metadata": {},
   "outputs": [
    {
     "data": {
      "text/html": [
       "<div>\n",
       "<style scoped>\n",
       "    .dataframe tbody tr th:only-of-type {\n",
       "        vertical-align: middle;\n",
       "    }\n",
       "\n",
       "    .dataframe tbody tr th {\n",
       "        vertical-align: top;\n",
       "    }\n",
       "\n",
       "    .dataframe thead th {\n",
       "        text-align: right;\n",
       "    }\n",
       "</style>\n",
       "<table border=\"1\" class=\"dataframe\">\n",
       "  <thead>\n",
       "    <tr style=\"text-align: right;\">\n",
       "      <th></th>\n",
       "      <th>duration_sec</th>\n",
       "      <th>start_time</th>\n",
       "      <th>end_time</th>\n",
       "      <th>start_station_id</th>\n",
       "      <th>start_station_name</th>\n",
       "      <th>start_station_latitude</th>\n",
       "      <th>start_station_longitude</th>\n",
       "      <th>end_station_id</th>\n",
       "      <th>end_station_name</th>\n",
       "      <th>end_station_latitude</th>\n",
       "      <th>end_station_longitude</th>\n",
       "      <th>bike_id</th>\n",
       "      <th>user_type</th>\n",
       "      <th>member_birth_year</th>\n",
       "      <th>member_gender</th>\n",
       "      <th>bike_share_for_all_trip</th>\n",
       "    </tr>\n",
       "  </thead>\n",
       "  <tbody>\n",
       "    <tr>\n",
       "      <th>27370</th>\n",
       "      <td>1474</td>\n",
       "      <td>2019-02-25 09:28:42.161</td>\n",
       "      <td>2019-02-25 09:53:17.068</td>\n",
       "      <td>15.0</td>\n",
       "      <td>San Francisco Ferry Building (Harry Bridges Pl...</td>\n",
       "      <td>37.795392</td>\n",
       "      <td>-122.394203</td>\n",
       "      <td>386.0</td>\n",
       "      <td>24th St at Bartlett St</td>\n",
       "      <td>37.752105</td>\n",
       "      <td>-122.419724</td>\n",
       "      <td>6436</td>\n",
       "      <td>Customer</td>\n",
       "      <td>1878.0</td>\n",
       "      <td>Female</td>\n",
       "      <td>False</td>\n",
       "    </tr>\n",
       "  </tbody>\n",
       "</table>\n",
       "</div>"
      ],
      "text/plain": [
       "       duration_sec              start_time                end_time  \\\n",
       "27370          1474 2019-02-25 09:28:42.161 2019-02-25 09:53:17.068   \n",
       "\n",
       "       start_station_id                                 start_station_name  \\\n",
       "27370              15.0  San Francisco Ferry Building (Harry Bridges Pl...   \n",
       "\n",
       "       start_station_latitude  start_station_longitude  end_station_id  \\\n",
       "27370               37.795392              -122.394203           386.0   \n",
       "\n",
       "             end_station_name  end_station_latitude  end_station_longitude  \\\n",
       "27370  24th St at Bartlett St             37.752105            -122.419724   \n",
       "\n",
       "       bike_id user_type  member_birth_year member_gender  \\\n",
       "27370     6436  Customer             1878.0        Female   \n",
       "\n",
       "       bike_share_for_all_trip  \n",
       "27370                    False  "
      ]
     },
     "execution_count": 22,
     "metadata": {},
     "output_type": "execute_result"
    }
   ],
   "source": [
    "dfOld=df.query('member_birth_year==1878.0')\n",
    "dfOld"
   ]
  },
  {
   "cell_type": "markdown",
   "metadata": {},
   "source": [
    "As it is only one entry, I will delete it"
   ]
  },
  {
   "cell_type": "code",
   "execution_count": 23,
   "metadata": {},
   "outputs": [],
   "source": [
    "df.drop(index = [27370],inplace=True)"
   ]
  },
  {
   "cell_type": "code",
   "execution_count": 24,
   "metadata": {},
   "outputs": [
    {
     "data": {
      "text/plain": [
       "1900.0"
      ]
     },
     "execution_count": 24,
     "metadata": {},
     "output_type": "execute_result"
    }
   ],
   "source": [
    "# recheck the min of member_birth_year\n",
    "df.member_birth_year.min()"
   ]
  },
  {
   "cell_type": "markdown",
   "metadata": {},
   "source": [
    "This entry is also illogic. The user's age is 119.</br>\n",
    "Let's check the number of users with this entry"
   ]
  },
  {
   "cell_type": "code",
   "execution_count": 25,
   "metadata": {},
   "outputs": [
    {
     "data": {
      "text/plain": [
       "(53, 16)"
      ]
     },
     "execution_count": 25,
     "metadata": {},
     "output_type": "execute_result"
    }
   ],
   "source": [
    "dfOld=df.query('member_birth_year==1900.0')\n",
    "dfOld.shape"
   ]
  },
  {
   "cell_type": "markdown",
   "metadata": {},
   "source": [
    "There are 53 rows. </br>\n",
    "As these entries are illogic I believe that the number of rows will be the least compared to the logic entries </br>\n",
    "Let's check the least 20 entries in terms of member_birth_year."
   ]
  },
  {
   "cell_type": "code",
   "execution_count": 26,
   "metadata": {
    "scrolled": true
   },
   "outputs": [
    {
     "data": {
      "text/plain": [
       "array([1927., 1928., 1910., 1930., 1934., 1944., 1938., 1920., 1901.,\n",
       "       1941., 1902., 1939., 1946., 1933., 1942., 1943., 2001., 1948.,\n",
       "       1900., 1931.])"
      ]
     },
     "execution_count": 26,
     "metadata": {},
     "output_type": "execute_result"
    }
   ],
   "source": [
    "least20AgeEntries=np.array(df['member_birth_year'].value_counts().sort_values(ascending=True).head(20).index)\n",
    "least20AgeEntries"
   ]
  },
  {
   "cell_type": "markdown",
   "metadata": {},
   "source": [
    "As expected, the dataset contains illogic entries except for 2001. </br>\n",
    "I believe that users aged more than 70, will find it hard to bike unless being sportsmen </br>\n",
    "I intend to keep only users aged 70 or less. Let's check first how many rows would be deleted. "
   ]
  },
  {
   "cell_type": "code",
   "execution_count": 27,
   "metadata": {},
   "outputs": [
    {
     "data": {
      "text/plain": [
       "(523, 16)"
      ]
     },
     "execution_count": 27,
     "metadata": {},
     "output_type": "execute_result"
    }
   ],
   "source": [
    "df2=df.query('member_birth_year<1948.0')\n",
    "df2.shape"
   ]
  },
  {
   "cell_type": "markdown",
   "metadata": {},
   "source": [
    "There are 470which we can remove."
   ]
  },
  {
   "cell_type": "code",
   "execution_count": 28,
   "metadata": {},
   "outputs": [],
   "source": [
    "df=df.query('member_birth_year>1948.0')"
   ]
  },
  {
   "cell_type": "code",
   "execution_count": 29,
   "metadata": {},
   "outputs": [
    {
     "data": {
      "text/plain": [
       "1949.0"
      ]
     },
     "execution_count": 29,
     "metadata": {},
     "output_type": "execute_result"
    }
   ],
   "source": [
    "# recheck the min of member_birth_year\n",
    "df.member_birth_year.min()"
   ]
  },
  {
   "cell_type": "code",
   "execution_count": 30,
   "metadata": {},
   "outputs": [
    {
     "data": {
      "text/plain": [
       "2001.0"
      ]
     },
     "execution_count": 30,
     "metadata": {},
     "output_type": "execute_result"
    }
   ],
   "source": [
    "# check the max of member_birth_year\n",
    "df.member_birth_year.max()"
   ]
  },
  {
   "cell_type": "code",
   "execution_count": 31,
   "metadata": {},
   "outputs": [
    {
     "data": {
      "image/png": "[encoded data removed]",
      "text/plain": [
       "<Figure size 576x576 with 1 Axes>"
      ]
     },
     "metadata": {
      "needs_background": "light"
     },
     "output_type": "display_data"
    }
   ],
   "source": [
    "# I will distribute age by decades\n",
    "l1=[2001,1999,1989,1979,1969,1959,1949]\n",
    "l2=[18,20,30,40,50,60,70]\n",
    "histogramTicks([8,8], df, 'member_birth_year', 'Distribution of users age','Age','Trips number',l1,l2,'linear')"
   ]
  },
  {
   "cell_type": "markdown",
   "metadata": {},
   "source": [
    "#### Observations"
   ]
  },
  {
   "cell_type": "markdown",
   "metadata": {
    "scrolled": true
   },
   "source": [
    "The most of users are in their late twenties or early thirties."
   ]
  },
  {
   "cell_type": "markdown",
   "metadata": {},
   "source": [
    "### 4. visualizing the rate of different users' types "
   ]
  },
  {
   "cell_type": "markdown",
   "metadata": {},
   "source": [
    "#### Question\n",
    "What is the most common user types?"
   ]
  },
  {
   "cell_type": "markdown",
   "metadata": {},
   "source": [
    "#### Code"
   ]
  },
  {
   "cell_type": "code",
   "execution_count": 32,
   "metadata": {
    "scrolled": true
   },
   "outputs": [],
   "source": [
    "def pieChart(title,values,labelsList,figsize):\n",
    "    \"\"\"\n",
    "    This function is used to draw pie charts\n",
    "    \"\"\"\n",
    "    values.plot(kind='pie',autopct='%1.1f%%', labels=labelsList,figsize=figsize)\n",
    "    plt.title(title)\n",
    "    plt.show"
   ]
  },
  {
   "cell_type": "code",
   "execution_count": 33,
   "metadata": {
    "scrolled": true
   },
   "outputs": [
    {
     "data": {
      "text/plain": [
       "Subscriber    157959\n",
       "Customer       16613\n",
       "Name: user_type, dtype: int64"
      ]
     },
     "execution_count": 33,
     "metadata": {},
     "output_type": "execute_result"
    }
   ],
   "source": [
    "values=df.user_type.value_counts()\n",
    "values"
   ]
  },
  {
   "cell_type": "code",
   "execution_count": 34,
   "metadata": {},
   "outputs": [
    {
     "data": {
      "image/png": "[encoded data removed]",
      "text/plain": [
       "<Figure size 576x576 with 1 Axes>"
      ]
     },
     "metadata": {},
     "output_type": "display_data"
    }
   ],
   "source": [
    "labelsList=[\"Subscriber\",\"Customer\"]\n",
    "pieChart(\"User types rate\",values,labelsList,(8,8))"
   ]
  },
  {
   "cell_type": "markdown",
   "metadata": {},
   "source": [
    "#### Observations"
   ]
  },
  {
   "cell_type": "markdown",
   "metadata": {
    "scrolled": true
   },
   "source": [
    "90.5% of Ford GoBike System user are subscribers."
   ]
  },
  {
   "cell_type": "markdown",
   "metadata": {},
   "source": [
    "### 5. visualizing the rate of different users' genders "
   ]
  },
  {
   "cell_type": "markdown",
   "metadata": {},
   "source": [
    "#### Question\n",
    "What is the most common users gender?"
   ]
  },
  {
   "cell_type": "markdown",
   "metadata": {},
   "source": [
    "#### Code"
   ]
  },
  {
   "cell_type": "code",
   "execution_count": 35,
   "metadata": {
    "scrolled": true
   },
   "outputs": [
    {
     "data": {
      "text/plain": [
       "Male      130176\n",
       "Female     40772\n",
       "Other       3624\n",
       "Name: member_gender, dtype: int64"
      ]
     },
     "execution_count": 35,
     "metadata": {},
     "output_type": "execute_result"
    }
   ],
   "source": [
    "values=df.member_gender.value_counts()\n",
    "values"
   ]
  },
  {
   "cell_type": "code",
   "execution_count": 36,
   "metadata": {},
   "outputs": [
    {
     "data": {
      "image/png": "[encoded data removed]",
      "text/plain": [
       "<Figure size 576x576 with 1 Axes>"
      ]
     },
     "metadata": {},
     "output_type": "display_data"
    }
   ],
   "source": [
    "labelsList=[\"Male\",\"Female\",\"Other\"]\n",
    "pieChart(\"User gender rate\",values,labelsList,(8,8))"
   ]
  },
  {
   "cell_type": "markdown",
   "metadata": {},
   "source": [
    "#### Observations"
   ]
  },
  {
   "cell_type": "markdown",
   "metadata": {
    "scrolled": true
   },
   "source": [
    "The most of Ford GoBike System members are male with a rate 74.6%."
   ]
  },
  {
   "cell_type": "markdown",
   "metadata": {},
   "source": [
    "### 6. visualizing top 10 stations as start station:"
   ]
  },
  {
   "cell_type": "markdown",
   "metadata": {},
   "source": [
    "#### Question\n",
    "What are the top 10 stations as start stations?"
   ]
  },
  {
   "cell_type": "markdown",
   "metadata": {},
   "source": [
    "#### Code"
   ]
  },
  {
   "cell_type": "code",
   "execution_count": 37,
   "metadata": {
    "scrolled": true
   },
   "outputs": [
    {
     "data": {
      "text/plain": [
       "array(['Market St at 10th St',\n",
       "       'San Francisco Caltrain Station 2  (Townsend St at 4th St)',\n",
       "       'Berry St at 4th St',\n",
       "       'Montgomery St BART Station (Market St at 2nd St)',\n",
       "       'Powell St BART Station (Market St at 4th St)',\n",
       "       'San Francisco Caltrain (Townsend St at 4th St)',\n",
       "       'San Francisco Ferry Building (Harry Bridges Plaza)',\n",
       "       'Howard St at Beale St', 'Steuart St at Market St',\n",
       "       'Powell St BART Station (Market St at 5th St)'], dtype=object)"
      ]
     },
     "execution_count": 37,
     "metadata": {},
     "output_type": "execute_result"
    }
   ],
   "source": [
    "#get top 10 listed station as start stations\n",
    "top10startStations=np.array(df.start_station_name.value_counts().sort_values(ascending=False).head(10).index)\n",
    "top10startStations"
   ]
  },
  {
   "cell_type": "code",
   "execution_count": 38,
   "metadata": {
    "scrolled": true
   },
   "outputs": [
    {
     "data": {
      "text/html": [
       "<div>\n",
       "<style scoped>\n",
       "    .dataframe tbody tr th:only-of-type {\n",
       "        vertical-align: middle;\n",
       "    }\n",
       "\n",
       "    .dataframe tbody tr th {\n",
       "        vertical-align: top;\n",
       "    }\n",
       "\n",
       "    .dataframe thead th {\n",
       "        text-align: right;\n",
       "    }\n",
       "</style>\n",
       "<table border=\"1\" class=\"dataframe\">\n",
       "  <thead>\n",
       "    <tr style=\"text-align: right;\">\n",
       "      <th></th>\n",
       "      <th>duration_sec</th>\n",
       "      <th>start_time</th>\n",
       "      <th>end_time</th>\n",
       "      <th>start_station_id</th>\n",
       "      <th>start_station_name</th>\n",
       "      <th>start_station_latitude</th>\n",
       "      <th>start_station_longitude</th>\n",
       "      <th>end_station_id</th>\n",
       "      <th>end_station_name</th>\n",
       "      <th>end_station_latitude</th>\n",
       "      <th>end_station_longitude</th>\n",
       "      <th>bike_id</th>\n",
       "      <th>user_type</th>\n",
       "      <th>member_birth_year</th>\n",
       "      <th>member_gender</th>\n",
       "      <th>bike_share_for_all_trip</th>\n",
       "    </tr>\n",
       "  </thead>\n",
       "  <tbody>\n",
       "    <tr>\n",
       "      <th>0</th>\n",
       "      <td>52185</td>\n",
       "      <td>2019-02-28 17:32:10.145</td>\n",
       "      <td>2019-03-01 08:01:55.975</td>\n",
       "      <td>21.0</td>\n",
       "      <td>Montgomery St BART Station (Market St at 2nd St)</td>\n",
       "      <td>37.789625</td>\n",
       "      <td>-122.400811</td>\n",
       "      <td>13.0</td>\n",
       "      <td>Commercial St at Montgomery St</td>\n",
       "      <td>37.794231</td>\n",
       "      <td>-122.402923</td>\n",
       "      <td>4902</td>\n",
       "      <td>Customer</td>\n",
       "      <td>1984.0</td>\n",
       "      <td>Male</td>\n",
       "      <td>False</td>\n",
       "    </tr>\n",
       "    <tr>\n",
       "      <th>38</th>\n",
       "      <td>1066</td>\n",
       "      <td>2019-02-28 23:31:16.139</td>\n",
       "      <td>2019-02-28 23:49:02.792</td>\n",
       "      <td>58.0</td>\n",
       "      <td>Market St at 10th St</td>\n",
       "      <td>37.776619</td>\n",
       "      <td>-122.417385</td>\n",
       "      <td>145.0</td>\n",
       "      <td>29th St at Church St</td>\n",
       "      <td>37.743684</td>\n",
       "      <td>-122.426806</td>\n",
       "      <td>5938</td>\n",
       "      <td>Subscriber</td>\n",
       "      <td>1992.0</td>\n",
       "      <td>Female</td>\n",
       "      <td>False</td>\n",
       "    </tr>\n",
       "    <tr>\n",
       "      <th>42</th>\n",
       "      <td>1554</td>\n",
       "      <td>2019-02-28 23:20:24.089</td>\n",
       "      <td>2019-02-28 23:46:19.019</td>\n",
       "      <td>15.0</td>\n",
       "      <td>San Francisco Ferry Building (Harry Bridges Pl...</td>\n",
       "      <td>37.795392</td>\n",
       "      <td>-122.394203</td>\n",
       "      <td>284.0</td>\n",
       "      <td>Yerba Buena Center for the Arts (Howard St at ...</td>\n",
       "      <td>37.784872</td>\n",
       "      <td>-122.400876</td>\n",
       "      <td>5411</td>\n",
       "      <td>Subscriber</td>\n",
       "      <td>1972.0</td>\n",
       "      <td>Male</td>\n",
       "      <td>False</td>\n",
       "    </tr>\n",
       "    <tr>\n",
       "      <th>54</th>\n",
       "      <td>401</td>\n",
       "      <td>2019-02-28 23:30:52.471</td>\n",
       "      <td>2019-02-28 23:37:33.955</td>\n",
       "      <td>58.0</td>\n",
       "      <td>Market St at 10th St</td>\n",
       "      <td>37.776619</td>\n",
       "      <td>-122.417385</td>\n",
       "      <td>62.0</td>\n",
       "      <td>Victoria Manalo Draves Park</td>\n",
       "      <td>37.777791</td>\n",
       "      <td>-122.406432</td>\n",
       "      <td>5407</td>\n",
       "      <td>Subscriber</td>\n",
       "      <td>1990.0</td>\n",
       "      <td>Female</td>\n",
       "      <td>False</td>\n",
       "    </tr>\n",
       "    <tr>\n",
       "      <th>63</th>\n",
       "      <td>239</td>\n",
       "      <td>2019-02-28 23:28:42.709</td>\n",
       "      <td>2019-02-28 23:32:41.769</td>\n",
       "      <td>21.0</td>\n",
       "      <td>Montgomery St BART Station (Market St at 2nd St)</td>\n",
       "      <td>37.789625</td>\n",
       "      <td>-122.400811</td>\n",
       "      <td>343.0</td>\n",
       "      <td>Bryant St at 2nd St</td>\n",
       "      <td>37.783172</td>\n",
       "      <td>-122.393572</td>\n",
       "      <td>5731</td>\n",
       "      <td>Subscriber</td>\n",
       "      <td>1986.0</td>\n",
       "      <td>Male</td>\n",
       "      <td>False</td>\n",
       "    </tr>\n",
       "  </tbody>\n",
       "</table>\n",
       "</div>"
      ],
      "text/plain": [
       "    duration_sec              start_time                end_time  \\\n",
       "0          52185 2019-02-28 17:32:10.145 2019-03-01 08:01:55.975   \n",
       "38          1066 2019-02-28 23:31:16.139 2019-02-28 23:49:02.792   \n",
       "42          1554 2019-02-28 23:20:24.089 2019-02-28 23:46:19.019   \n",
       "54           401 2019-02-28 23:30:52.471 2019-02-28 23:37:33.955   \n",
       "63           239 2019-02-28 23:28:42.709 2019-02-28 23:32:41.769   \n",
       "\n",
       "    start_station_id                                 start_station_name  \\\n",
       "0               21.0   Montgomery St BART Station (Market St at 2nd St)   \n",
       "38              58.0                               Market St at 10th St   \n",
       "42              15.0  San Francisco Ferry Building (Harry Bridges Pl...   \n",
       "54              58.0                               Market St at 10th St   \n",
       "63              21.0   Montgomery St BART Station (Market St at 2nd St)   \n",
       "\n",
       "    start_station_latitude  start_station_longitude  end_station_id  \\\n",
       "0                37.789625              -122.400811            13.0   \n",
       "38               37.776619              -122.417385           145.0   \n",
       "42               37.795392              -122.394203           284.0   \n",
       "54               37.776619              -122.417385            62.0   \n",
       "63               37.789625              -122.400811           343.0   \n",
       "\n",
       "                                     end_station_name  end_station_latitude  \\\n",
       "0                      Commercial St at Montgomery St             37.794231   \n",
       "38                               29th St at Church St             37.743684   \n",
       "42  Yerba Buena Center for the Arts (Howard St at ...             37.784872   \n",
       "54                        Victoria Manalo Draves Park             37.777791   \n",
       "63                                Bryant St at 2nd St             37.783172   \n",
       "\n",
       "    end_station_longitude  bike_id   user_type  member_birth_year  \\\n",
       "0             -122.402923     4902    Customer             1984.0   \n",
       "38            -122.426806     5938  Subscriber             1992.0   \n",
       "42            -122.400876     5411  Subscriber             1972.0   \n",
       "54            -122.406432     5407  Subscriber             1990.0   \n",
       "63            -122.393572     5731  Subscriber             1986.0   \n",
       "\n",
       "   member_gender  bike_share_for_all_trip  \n",
       "0           Male                    False  \n",
       "38        Female                    False  \n",
       "42          Male                    False  \n",
       "54        Female                    False  \n",
       "63          Male                    False  "
      ]
     },
     "execution_count": 38,
     "metadata": {},
     "output_type": "execute_result"
    }
   ],
   "source": [
    "# filter a dataframe with only top 10 listed station as start stations\n",
    "dfTopStart=df[df['start_station_name'].isin(top10startStations)]\n",
    "dfTopStart.head()"
   ]
  },
  {
   "cell_type": "code",
   "execution_count": 39,
   "metadata": {},
   "outputs": [],
   "source": [
    "# create function to draw horizontal bar chart using seaborn\n",
    "def horizontalBar(fig, df, axis, dfCounts, title,xlabel,ylabel,dfGlobal):\n",
    "    \"\"\"\n",
    "    This function is used to draw horizontal\n",
    "    \"\"\"\n",
    "    plt.figure(figsize=(10,6))\n",
    "    order=dfCounts.index.tolist()\n",
    "    sb.countplot(data=df,y=axis,order=order)\n",
    "    plt.xlabel(xlabel)\n",
    "    plt.ylabel(ylabel)\n",
    "    plt.title (title)\n",
    "    ## add a text with ratings from the Global dataframe\n",
    "    for i in range(dfCounts.shape[0]):\n",
    "        valueCount=dfCounts[i]\n",
    "        rate='{:0.1f}%'.format(100*valueCount/dfGlobal.shape[0])\n",
    "        plt.text(valueCount,i,rate,va='center')\n",
    "\n",
    "    plt.show()"
   ]
  },
  {
   "cell_type": "code",
   "execution_count": 40,
   "metadata": {},
   "outputs": [
    {
     "data": {
      "image/png": "[encoded data removed]",
      "text/plain": [
       "<Figure size 720x432 with 1 Axes>"
      ]
     },
     "metadata": {
      "needs_background": "light"
     },
     "output_type": "display_data"
    }
   ],
   "source": [
    "dfCounts=dfTopStart.start_station_name.value_counts()\n",
    "horizontalBar((10,10), dfTopStart, 'start_station_name', dfCounts, \"top 10 stations as start station\",\"Trips number\",\"start station name\",df)"
   ]
  },
  {
   "cell_type": "markdown",
   "metadata": {},
   "source": [
    "#### Observations"
   ]
  },
  {
   "cell_type": "markdown",
   "metadata": {
    "scrolled": true
   },
   "source": [
    "There is no big gap between the ratings of the top 10 start stations. The most popular station is Market St at 10th St"
   ]
  },
  {
   "cell_type": "markdown",
   "metadata": {},
   "source": [
    "### 7. visualizing top 10 stations as end station:"
   ]
  },
  {
   "cell_type": "markdown",
   "metadata": {},
   "source": [
    "#### Question\n",
    "What are the top 10 stations as end stations?"
   ]
  },
  {
   "cell_type": "markdown",
   "metadata": {},
   "source": [
    "#### Code"
   ]
  },
  {
   "cell_type": "code",
   "execution_count": 41,
   "metadata": {
    "scrolled": true
   },
   "outputs": [
    {
     "data": {
      "text/plain": [
       "array(['San Francisco Caltrain Station 2  (Townsend St at 4th St)',\n",
       "       'Market St at 10th St',\n",
       "       'Montgomery St BART Station (Market St at 2nd St)',\n",
       "       'San Francisco Ferry Building (Harry Bridges Plaza)',\n",
       "       'Powell St BART Station (Market St at 4th St)',\n",
       "       'San Francisco Caltrain (Townsend St at 4th St)',\n",
       "       'Berry St at 4th St', 'The Embarcadero at Sansome St',\n",
       "       'Steuart St at Market St',\n",
       "       'Powell St BART Station (Market St at 5th St)'], dtype=object)"
      ]
     },
     "execution_count": 41,
     "metadata": {},
     "output_type": "execute_result"
    }
   ],
   "source": [
    "#get top 10 listed station as end stations\n",
    "top10endStations=np.array(df.end_station_name.value_counts().sort_values(ascending=False).head(10).index)\n",
    "top10endStations"
   ]
  },
  {
   "cell_type": "code",
   "execution_count": 42,
   "metadata": {
    "scrolled": true
   },
   "outputs": [
    {
     "data": {
      "text/html": [
       "<div>\n",
       "<style scoped>\n",
       "    .dataframe tbody tr th:only-of-type {\n",
       "        vertical-align: middle;\n",
       "    }\n",
       "\n",
       "    .dataframe tbody tr th {\n",
       "        vertical-align: top;\n",
       "    }\n",
       "\n",
       "    .dataframe thead th {\n",
       "        text-align: right;\n",
       "    }\n",
       "</style>\n",
       "<table border=\"1\" class=\"dataframe\">\n",
       "  <thead>\n",
       "    <tr style=\"text-align: right;\">\n",
       "      <th></th>\n",
       "      <th>duration_sec</th>\n",
       "      <th>start_time</th>\n",
       "      <th>end_time</th>\n",
       "      <th>start_station_id</th>\n",
       "      <th>start_station_name</th>\n",
       "      <th>start_station_latitude</th>\n",
       "      <th>start_station_longitude</th>\n",
       "      <th>end_station_id</th>\n",
       "      <th>end_station_name</th>\n",
       "      <th>end_station_latitude</th>\n",
       "      <th>end_station_longitude</th>\n",
       "      <th>bike_id</th>\n",
       "      <th>user_type</th>\n",
       "      <th>member_birth_year</th>\n",
       "      <th>member_gender</th>\n",
       "      <th>bike_share_for_all_trip</th>\n",
       "    </tr>\n",
       "  </thead>\n",
       "  <tbody>\n",
       "    <tr>\n",
       "      <th>2</th>\n",
       "      <td>61854</td>\n",
       "      <td>2019-02-28 12:13:13.218</td>\n",
       "      <td>2019-03-01 05:24:08.146</td>\n",
       "      <td>86.0</td>\n",
       "      <td>Market St at Dolores St</td>\n",
       "      <td>37.769305</td>\n",
       "      <td>-122.426826</td>\n",
       "      <td>3.0</td>\n",
       "      <td>Powell St BART Station (Market St at 4th St)</td>\n",
       "      <td>37.786375</td>\n",
       "      <td>-122.404904</td>\n",
       "      <td>5905</td>\n",
       "      <td>Customer</td>\n",
       "      <td>1972.0</td>\n",
       "      <td>Male</td>\n",
       "      <td>False</td>\n",
       "    </tr>\n",
       "    <tr>\n",
       "      <th>26</th>\n",
       "      <td>385</td>\n",
       "      <td>2019-02-28 23:49:24.399</td>\n",
       "      <td>2019-02-28 23:55:50.284</td>\n",
       "      <td>6.0</td>\n",
       "      <td>The Embarcadero at Sansome St</td>\n",
       "      <td>37.804770</td>\n",
       "      <td>-122.403234</td>\n",
       "      <td>15.0</td>\n",
       "      <td>San Francisco Ferry Building (Harry Bridges Pl...</td>\n",
       "      <td>37.795392</td>\n",
       "      <td>-122.394203</td>\n",
       "      <td>6531</td>\n",
       "      <td>Customer</td>\n",
       "      <td>2000.0</td>\n",
       "      <td>Male</td>\n",
       "      <td>False</td>\n",
       "    </tr>\n",
       "    <tr>\n",
       "      <th>45</th>\n",
       "      <td>717</td>\n",
       "      <td>2019-02-28 23:33:21.095</td>\n",
       "      <td>2019-02-28 23:45:18.510</td>\n",
       "      <td>9.0</td>\n",
       "      <td>Broadway at Battery St</td>\n",
       "      <td>37.798572</td>\n",
       "      <td>-122.400869</td>\n",
       "      <td>58.0</td>\n",
       "      <td>Market St at 10th St</td>\n",
       "      <td>37.776619</td>\n",
       "      <td>-122.417385</td>\n",
       "      <td>6581</td>\n",
       "      <td>Subscriber</td>\n",
       "      <td>1980.0</td>\n",
       "      <td>Male</td>\n",
       "      <td>False</td>\n",
       "    </tr>\n",
       "    <tr>\n",
       "      <th>66</th>\n",
       "      <td>457</td>\n",
       "      <td>2019-02-28 23:23:32.035</td>\n",
       "      <td>2019-02-28 23:31:09.406</td>\n",
       "      <td>345.0</td>\n",
       "      <td>Hubbell St at 16th St</td>\n",
       "      <td>37.766483</td>\n",
       "      <td>-122.398279</td>\n",
       "      <td>81.0</td>\n",
       "      <td>Berry St at 4th St</td>\n",
       "      <td>37.775880</td>\n",
       "      <td>-122.393170</td>\n",
       "      <td>6132</td>\n",
       "      <td>Subscriber</td>\n",
       "      <td>1982.0</td>\n",
       "      <td>Female</td>\n",
       "      <td>False</td>\n",
       "    </tr>\n",
       "    <tr>\n",
       "      <th>81</th>\n",
       "      <td>294</td>\n",
       "      <td>2019-02-28 23:15:21.113</td>\n",
       "      <td>2019-02-28 23:20:15.798</td>\n",
       "      <td>356.0</td>\n",
       "      <td>Valencia St at Clinton Park</td>\n",
       "      <td>37.769188</td>\n",
       "      <td>-122.422285</td>\n",
       "      <td>58.0</td>\n",
       "      <td>Market St at 10th St</td>\n",
       "      <td>37.776619</td>\n",
       "      <td>-122.417385</td>\n",
       "      <td>5938</td>\n",
       "      <td>Subscriber</td>\n",
       "      <td>1992.0</td>\n",
       "      <td>Female</td>\n",
       "      <td>False</td>\n",
       "    </tr>\n",
       "  </tbody>\n",
       "</table>\n",
       "</div>"
      ],
      "text/plain": [
       "    duration_sec              start_time                end_time  \\\n",
       "2          61854 2019-02-28 12:13:13.218 2019-03-01 05:24:08.146   \n",
       "26           385 2019-02-28 23:49:24.399 2019-02-28 23:55:50.284   \n",
       "45           717 2019-02-28 23:33:21.095 2019-02-28 23:45:18.510   \n",
       "66           457 2019-02-28 23:23:32.035 2019-02-28 23:31:09.406   \n",
       "81           294 2019-02-28 23:15:21.113 2019-02-28 23:20:15.798   \n",
       "\n",
       "    start_station_id             start_station_name  start_station_latitude  \\\n",
       "2               86.0        Market St at Dolores St               37.769305   \n",
       "26               6.0  The Embarcadero at Sansome St               37.804770   \n",
       "45               9.0         Broadway at Battery St               37.798572   \n",
       "66             345.0          Hubbell St at 16th St               37.766483   \n",
       "81             356.0    Valencia St at Clinton Park               37.769188   \n",
       "\n",
       "    start_station_longitude  end_station_id  \\\n",
       "2               -122.426826             3.0   \n",
       "26              -122.403234            15.0   \n",
       "45              -122.400869            58.0   \n",
       "66              -122.398279            81.0   \n",
       "81              -122.422285            58.0   \n",
       "\n",
       "                                     end_station_name  end_station_latitude  \\\n",
       "2        Powell St BART Station (Market St at 4th St)             37.786375   \n",
       "26  San Francisco Ferry Building (Harry Bridges Pl...             37.795392   \n",
       "45                               Market St at 10th St             37.776619   \n",
       "66                                 Berry St at 4th St             37.775880   \n",
       "81                               Market St at 10th St             37.776619   \n",
       "\n",
       "    end_station_longitude  bike_id   user_type  member_birth_year  \\\n",
       "2             -122.404904     5905    Customer             1972.0   \n",
       "26            -122.394203     6531    Customer             2000.0   \n",
       "45            -122.417385     6581  Subscriber             1980.0   \n",
       "66            -122.393170     6132  Subscriber             1982.0   \n",
       "81            -122.417385     5938  Subscriber             1992.0   \n",
       "\n",
       "   member_gender  bike_share_for_all_trip  \n",
       "2           Male                    False  \n",
       "26          Male                    False  \n",
       "45          Male                    False  \n",
       "66        Female                    False  \n",
       "81        Female                    False  "
      ]
     },
     "execution_count": 42,
     "metadata": {},
     "output_type": "execute_result"
    }
   ],
   "source": [
    "# filter a dataframe with only top 10 listed station as end stations\n",
    "dfTopEnd=df[df['end_station_name'].isin(top10startStations)]\n",
    "dfTopEnd.head()"
   ]
  },
  {
   "cell_type": "code",
   "execution_count": 43,
   "metadata": {
    "scrolled": false
   },
   "outputs": [
    {
     "data": {
      "image/png": "[encoded data removed]",
      "text/plain": [
       "<Figure size 720x432 with 1 Axes>"
      ]
     },
     "metadata": {
      "needs_background": "light"
     },
     "output_type": "display_data"
    }
   ],
   "source": [
    "dfCounts=dfTopEnd.end_station_name.value_counts()\n",
    "horizontalBar((10,10), dfTopEnd, 'end_station_name', dfCounts, \"top 10 stations as end station\",\"Trips number\",\"end station name\",df)"
   ]
  },
  {
   "cell_type": "markdown",
   "metadata": {},
   "source": [
    "#### Observations"
   ]
  },
  {
   "cell_type": "markdown",
   "metadata": {},
   "source": [
    "There is no big gap between the ratings of the top 10 end stations. We can notice that some stations are listed as top start station and as end start station. The most popular station is San Francisco Caltrain Station 2  (Townsend St at 4th St). It is placed 2nd in the top start station."
   ]
  },
  {
   "cell_type": "markdown",
   "metadata": {},
   "source": [
    "### 8. visualizing least 10 popular stations as start station:"
   ]
  },
  {
   "cell_type": "markdown",
   "metadata": {},
   "source": [
    "#### Question\n",
    "What are the least 10 popular stations as start stations?"
   ]
  },
  {
   "cell_type": "markdown",
   "metadata": {},
   "source": [
    "#### Code"
   ]
  },
  {
   "cell_type": "code",
   "execution_count": 44,
   "metadata": {
    "scrolled": true
   },
   "outputs": [
    {
     "data": {
      "text/plain": [
       "array(['16th St Depot', 'Palm St at Willow St',\n",
       "       '21st Ave at International Blvd', 'Parker Ave at McAllister St',\n",
       "       'Willow St at Vine St', 'Farnam St at Fruitvale Ave',\n",
       "       'Taylor St at 9th St', 'Leavenworth St at Broadway',\n",
       "       'Backesto Park (Jackson St at 13th St)',\n",
       "       '23rd Ave at Foothill Blvd'], dtype=object)"
      ]
     },
     "execution_count": 44,
     "metadata": {},
     "output_type": "execute_result"
    }
   ],
   "source": [
    "#get bottom 10 listed station as start stations\n",
    "bottom10startStations=np.array(df.start_station_name.value_counts().sort_values(ascending=True).head(10).index)\n",
    "bottom10startStations"
   ]
  },
  {
   "cell_type": "code",
   "execution_count": 45,
   "metadata": {
    "scrolled": true
   },
   "outputs": [
    {
     "data": {
      "text/html": [
       "<div>\n",
       "<style scoped>\n",
       "    .dataframe tbody tr th:only-of-type {\n",
       "        vertical-align: middle;\n",
       "    }\n",
       "\n",
       "    .dataframe tbody tr th {\n",
       "        vertical-align: top;\n",
       "    }\n",
       "\n",
       "    .dataframe thead th {\n",
       "        text-align: right;\n",
       "    }\n",
       "</style>\n",
       "<table border=\"1\" class=\"dataframe\">\n",
       "  <thead>\n",
       "    <tr style=\"text-align: right;\">\n",
       "      <th></th>\n",
       "      <th>duration_sec</th>\n",
       "      <th>start_time</th>\n",
       "      <th>end_time</th>\n",
       "      <th>start_station_id</th>\n",
       "      <th>start_station_name</th>\n",
       "      <th>start_station_latitude</th>\n",
       "      <th>start_station_longitude</th>\n",
       "      <th>end_station_id</th>\n",
       "      <th>end_station_name</th>\n",
       "      <th>end_station_latitude</th>\n",
       "      <th>end_station_longitude</th>\n",
       "      <th>bike_id</th>\n",
       "      <th>user_type</th>\n",
       "      <th>member_birth_year</th>\n",
       "      <th>member_gender</th>\n",
       "      <th>bike_share_for_all_trip</th>\n",
       "    </tr>\n",
       "  </thead>\n",
       "  <tbody>\n",
       "    <tr>\n",
       "      <th>6</th>\n",
       "      <td>1147</td>\n",
       "      <td>2019-02-28 23:55:35.104</td>\n",
       "      <td>2019-03-01 00:14:42.588</td>\n",
       "      <td>300.0</td>\n",
       "      <td>Palm St at Willow St</td>\n",
       "      <td>37.317298</td>\n",
       "      <td>-121.884995</td>\n",
       "      <td>312.0</td>\n",
       "      <td>San Jose Diridon Station</td>\n",
       "      <td>37.329732</td>\n",
       "      <td>-121.901782</td>\n",
       "      <td>3803</td>\n",
       "      <td>Subscriber</td>\n",
       "      <td>1983.0</td>\n",
       "      <td>Female</td>\n",
       "      <td>False</td>\n",
       "    </tr>\n",
       "    <tr>\n",
       "      <th>561</th>\n",
       "      <td>724</td>\n",
       "      <td>2019-02-28 20:58:29.271</td>\n",
       "      <td>2019-02-28 21:10:34.156</td>\n",
       "      <td>51.0</td>\n",
       "      <td>Parker Ave at McAllister St</td>\n",
       "      <td>37.776101</td>\n",
       "      <td>-122.453093</td>\n",
       "      <td>43.0</td>\n",
       "      <td>San Francisco Public Library (Grove St at Hyde...</td>\n",
       "      <td>37.778768</td>\n",
       "      <td>-122.415929</td>\n",
       "      <td>5297</td>\n",
       "      <td>Subscriber</td>\n",
       "      <td>1989.0</td>\n",
       "      <td>Male</td>\n",
       "      <td>False</td>\n",
       "    </tr>\n",
       "    <tr>\n",
       "      <th>816</th>\n",
       "      <td>1909</td>\n",
       "      <td>2019-02-28 19:55:19.478</td>\n",
       "      <td>2019-02-28 20:27:09.355</td>\n",
       "      <td>398.0</td>\n",
       "      <td>Leavenworth St at Broadway</td>\n",
       "      <td>37.796471</td>\n",
       "      <td>-122.416858</td>\n",
       "      <td>324.0</td>\n",
       "      <td>Union Square (Powell St at Post St)</td>\n",
       "      <td>37.788300</td>\n",
       "      <td>-122.408531</td>\n",
       "      <td>5422</td>\n",
       "      <td>Customer</td>\n",
       "      <td>1993.0</td>\n",
       "      <td>Male</td>\n",
       "      <td>False</td>\n",
       "    </tr>\n",
       "    <tr>\n",
       "      <th>952</th>\n",
       "      <td>147</td>\n",
       "      <td>2019-02-28 20:06:50.116</td>\n",
       "      <td>2019-02-28 20:09:18.104</td>\n",
       "      <td>51.0</td>\n",
       "      <td>Parker Ave at McAllister St</td>\n",
       "      <td>37.776101</td>\n",
       "      <td>-122.453093</td>\n",
       "      <td>380.0</td>\n",
       "      <td>Masonic Ave at Turk St</td>\n",
       "      <td>37.779047</td>\n",
       "      <td>-122.447291</td>\n",
       "      <td>4357</td>\n",
       "      <td>Subscriber</td>\n",
       "      <td>1995.0</td>\n",
       "      <td>Male</td>\n",
       "      <td>False</td>\n",
       "    </tr>\n",
       "    <tr>\n",
       "      <th>1026</th>\n",
       "      <td>2432</td>\n",
       "      <td>2019-02-28 19:18:37.439</td>\n",
       "      <td>2019-02-28 19:59:09.586</td>\n",
       "      <td>398.0</td>\n",
       "      <td>Leavenworth St at Broadway</td>\n",
       "      <td>37.796471</td>\n",
       "      <td>-122.416858</td>\n",
       "      <td>51.0</td>\n",
       "      <td>Parker Ave at McAllister St</td>\n",
       "      <td>37.776101</td>\n",
       "      <td>-122.453093</td>\n",
       "      <td>5043</td>\n",
       "      <td>Customer</td>\n",
       "      <td>1986.0</td>\n",
       "      <td>Female</td>\n",
       "      <td>False</td>\n",
       "    </tr>\n",
       "  </tbody>\n",
       "</table>\n",
       "</div>"
      ],
      "text/plain": [
       "      duration_sec              start_time                end_time  \\\n",
       "6             1147 2019-02-28 23:55:35.104 2019-03-01 00:14:42.588   \n",
       "561            724 2019-02-28 20:58:29.271 2019-02-28 21:10:34.156   \n",
       "816           1909 2019-02-28 19:55:19.478 2019-02-28 20:27:09.355   \n",
       "952            147 2019-02-28 20:06:50.116 2019-02-28 20:09:18.104   \n",
       "1026          2432 2019-02-28 19:18:37.439 2019-02-28 19:59:09.586   \n",
       "\n",
       "      start_station_id           start_station_name  start_station_latitude  \\\n",
       "6                300.0         Palm St at Willow St               37.317298   \n",
       "561               51.0  Parker Ave at McAllister St               37.776101   \n",
       "816              398.0   Leavenworth St at Broadway               37.796471   \n",
       "952               51.0  Parker Ave at McAllister St               37.776101   \n",
       "1026             398.0   Leavenworth St at Broadway               37.796471   \n",
       "\n",
       "      start_station_longitude  end_station_id  \\\n",
       "6                 -121.884995           312.0   \n",
       "561               -122.453093            43.0   \n",
       "816               -122.416858           324.0   \n",
       "952               -122.453093           380.0   \n",
       "1026              -122.416858            51.0   \n",
       "\n",
       "                                       end_station_name  end_station_latitude  \\\n",
       "6                              San Jose Diridon Station             37.329732   \n",
       "561   San Francisco Public Library (Grove St at Hyde...             37.778768   \n",
       "816                 Union Square (Powell St at Post St)             37.788300   \n",
       "952                              Masonic Ave at Turk St             37.779047   \n",
       "1026                        Parker Ave at McAllister St             37.776101   \n",
       "\n",
       "      end_station_longitude  bike_id   user_type  member_birth_year  \\\n",
       "6               -121.901782     3803  Subscriber             1983.0   \n",
       "561             -122.415929     5297  Subscriber             1989.0   \n",
       "816             -122.408531     5422    Customer             1993.0   \n",
       "952             -122.447291     4357  Subscriber             1995.0   \n",
       "1026            -122.453093     5043    Customer             1986.0   \n",
       "\n",
       "     member_gender  bike_share_for_all_trip  \n",
       "6           Female                    False  \n",
       "561           Male                    False  \n",
       "816           Male                    False  \n",
       "952           Male                    False  \n",
       "1026        Female                    False  "
      ]
     },
     "execution_count": 45,
     "metadata": {},
     "output_type": "execute_result"
    }
   ],
   "source": [
    "# filter a dataframe with only bottom 10 listed station as start stations\n",
    "dfBottomStart=df[df['start_station_name'].isin(bottom10startStations)]\n",
    "dfBottomStart.head()"
   ]
  },
  {
   "cell_type": "code",
   "execution_count": 46,
   "metadata": {
    "scrolled": false
   },
   "outputs": [
    {
     "data": {
      "image/png": "[encoded data removed]",
      "text/plain": [
       "<Figure size 720x432 with 1 Axes>"
      ]
     },
     "metadata": {
      "needs_background": "light"
     },
     "output_type": "display_data"
    }
   ],
   "source": [
    "dfCounts=dfBottomStart.start_station_name.value_counts()\n",
    "horizontalBar((15,15), dfBottomStart, 'start_station_name', dfCounts, \"least 10 popular stations as start station\",\"Trips number\",\"start station name\",df)"
   ]
  },
  {
   "cell_type": "markdown",
   "metadata": {},
   "source": [
    "#### Observations"
   ]
  },
  {
   "cell_type": "markdown",
   "metadata": {
    "scrolled": true
   },
   "source": [
    "The number of trips is very minimal that we got a rating of 0%. the bike rides are between 2 and 17. The least popular start station is 16th St Depot."
   ]
  },
  {
   "cell_type": "markdown",
   "metadata": {},
   "source": [
    "### 8. visualizing least 10 popular stations as end station:"
   ]
  },
  {
   "cell_type": "markdown",
   "metadata": {},
   "source": [
    "#### Question\n",
    "What are the least 10 popular stations as end stations?"
   ]
  },
  {
   "cell_type": "markdown",
   "metadata": {},
   "source": [
    "#### Code"
   ]
  },
  {
   "cell_type": "code",
   "execution_count": 47,
   "metadata": {
    "scrolled": true
   },
   "outputs": [
    {
     "data": {
      "text/plain": [
       "array(['21st Ave at International Blvd', 'Willow St at Vine St',\n",
       "       '16th St Depot', 'Palm St at Willow St',\n",
       "       'Parker Ave at McAllister St', 'Farnam St at Fruitvale Ave',\n",
       "       'Taylor St at 9th St', 'Leavenworth St at Broadway',\n",
       "       'Foothill Blvd at Harrington Ave',\n",
       "       'Backesto Park (Jackson St at 13th St)'], dtype=object)"
      ]
     },
     "execution_count": 47,
     "metadata": {},
     "output_type": "execute_result"
    }
   ],
   "source": [
    "#get top 10 listed station as end stations\n",
    "bottom10endStations=np.array(df.end_station_name.value_counts().sort_values(ascending=True).head(10).index)\n",
    "bottom10endStations"
   ]
  },
  {
   "cell_type": "code",
   "execution_count": 48,
   "metadata": {
    "scrolled": true
   },
   "outputs": [
    {
     "data": {
      "text/html": [
       "<div>\n",
       "<style scoped>\n",
       "    .dataframe tbody tr th:only-of-type {\n",
       "        vertical-align: middle;\n",
       "    }\n",
       "\n",
       "    .dataframe tbody tr th {\n",
       "        vertical-align: top;\n",
       "    }\n",
       "\n",
       "    .dataframe thead th {\n",
       "        text-align: right;\n",
       "    }\n",
       "</style>\n",
       "<table border=\"1\" class=\"dataframe\">\n",
       "  <thead>\n",
       "    <tr style=\"text-align: right;\">\n",
       "      <th></th>\n",
       "      <th>duration_sec</th>\n",
       "      <th>start_time</th>\n",
       "      <th>end_time</th>\n",
       "      <th>start_station_id</th>\n",
       "      <th>start_station_name</th>\n",
       "      <th>start_station_latitude</th>\n",
       "      <th>start_station_longitude</th>\n",
       "      <th>end_station_id</th>\n",
       "      <th>end_station_name</th>\n",
       "      <th>end_station_latitude</th>\n",
       "      <th>end_station_longitude</th>\n",
       "      <th>bike_id</th>\n",
       "      <th>user_type</th>\n",
       "      <th>member_birth_year</th>\n",
       "      <th>member_gender</th>\n",
       "      <th>bike_share_for_all_trip</th>\n",
       "    </tr>\n",
       "  </thead>\n",
       "  <tbody>\n",
       "    <tr>\n",
       "      <th>144</th>\n",
       "      <td>1471</td>\n",
       "      <td>2019-02-28 22:30:03.424</td>\n",
       "      <td>2019-02-28 22:54:34.560</td>\n",
       "      <td>386.0</td>\n",
       "      <td>24th St at Bartlett St</td>\n",
       "      <td>37.752105</td>\n",
       "      <td>-122.419724</td>\n",
       "      <td>398.0</td>\n",
       "      <td>Leavenworth St at Broadway</td>\n",
       "      <td>37.796471</td>\n",
       "      <td>-122.416858</td>\n",
       "      <td>6372</td>\n",
       "      <td>Subscriber</td>\n",
       "      <td>1989.0</td>\n",
       "      <td>Male</td>\n",
       "      <td>False</td>\n",
       "    </tr>\n",
       "    <tr>\n",
       "      <th>195</th>\n",
       "      <td>343</td>\n",
       "      <td>2019-02-28 22:30:22.917</td>\n",
       "      <td>2019-02-28 22:36:06.874</td>\n",
       "      <td>281.0</td>\n",
       "      <td>9th St at San Fernando St</td>\n",
       "      <td>37.338395</td>\n",
       "      <td>-121.880797</td>\n",
       "      <td>388.0</td>\n",
       "      <td>Backesto Park (Jackson St at 13th St)</td>\n",
       "      <td>37.352887</td>\n",
       "      <td>-121.886050</td>\n",
       "      <td>3967</td>\n",
       "      <td>Subscriber</td>\n",
       "      <td>1989.0</td>\n",
       "      <td>Male</td>\n",
       "      <td>True</td>\n",
       "    </tr>\n",
       "    <tr>\n",
       "      <th>608</th>\n",
       "      <td>422</td>\n",
       "      <td>2019-02-28 20:54:16.888</td>\n",
       "      <td>2019-02-28 21:01:19.566</td>\n",
       "      <td>19.0</td>\n",
       "      <td>Post St at Kearny St</td>\n",
       "      <td>37.788975</td>\n",
       "      <td>-122.403452</td>\n",
       "      <td>398.0</td>\n",
       "      <td>Leavenworth St at Broadway</td>\n",
       "      <td>37.796471</td>\n",
       "      <td>-122.416858</td>\n",
       "      <td>4569</td>\n",
       "      <td>Subscriber</td>\n",
       "      <td>1972.0</td>\n",
       "      <td>Male</td>\n",
       "      <td>False</td>\n",
       "    </tr>\n",
       "    <tr>\n",
       "      <th>733</th>\n",
       "      <td>193</td>\n",
       "      <td>2019-02-28 20:37:58.871</td>\n",
       "      <td>2019-02-28 20:41:12.336</td>\n",
       "      <td>380.0</td>\n",
       "      <td>Masonic Ave at Turk St</td>\n",
       "      <td>37.779047</td>\n",
       "      <td>-122.447291</td>\n",
       "      <td>51.0</td>\n",
       "      <td>Parker Ave at McAllister St</td>\n",
       "      <td>37.776101</td>\n",
       "      <td>-122.453093</td>\n",
       "      <td>4357</td>\n",
       "      <td>Subscriber</td>\n",
       "      <td>1995.0</td>\n",
       "      <td>Male</td>\n",
       "      <td>False</td>\n",
       "    </tr>\n",
       "    <tr>\n",
       "      <th>780</th>\n",
       "      <td>267</td>\n",
       "      <td>2019-02-28 20:28:39.156</td>\n",
       "      <td>2019-02-28 20:33:07.141</td>\n",
       "      <td>237.0</td>\n",
       "      <td>Fruitvale BART Station</td>\n",
       "      <td>37.775232</td>\n",
       "      <td>-122.224498</td>\n",
       "      <td>228.0</td>\n",
       "      <td>Foothill Blvd at Harrington Ave</td>\n",
       "      <td>37.779930</td>\n",
       "      <td>-122.217728</td>\n",
       "      <td>5789</td>\n",
       "      <td>Subscriber</td>\n",
       "      <td>1984.0</td>\n",
       "      <td>Male</td>\n",
       "      <td>False</td>\n",
       "    </tr>\n",
       "  </tbody>\n",
       "</table>\n",
       "</div>"
      ],
      "text/plain": [
       "     duration_sec              start_time                end_time  \\\n",
       "144          1471 2019-02-28 22:30:03.424 2019-02-28 22:54:34.560   \n",
       "195           343 2019-02-28 22:30:22.917 2019-02-28 22:36:06.874   \n",
       "608           422 2019-02-28 20:54:16.888 2019-02-28 21:01:19.566   \n",
       "733           193 2019-02-28 20:37:58.871 2019-02-28 20:41:12.336   \n",
       "780           267 2019-02-28 20:28:39.156 2019-02-28 20:33:07.141   \n",
       "\n",
       "     start_station_id         start_station_name  start_station_latitude  \\\n",
       "144             386.0     24th St at Bartlett St               37.752105   \n",
       "195             281.0  9th St at San Fernando St               37.338395   \n",
       "608              19.0       Post St at Kearny St               37.788975   \n",
       "733             380.0     Masonic Ave at Turk St               37.779047   \n",
       "780             237.0     Fruitvale BART Station               37.775232   \n",
       "\n",
       "     start_station_longitude  end_station_id  \\\n",
       "144              -122.419724           398.0   \n",
       "195              -121.880797           388.0   \n",
       "608              -122.403452           398.0   \n",
       "733              -122.447291            51.0   \n",
       "780              -122.224498           228.0   \n",
       "\n",
       "                          end_station_name  end_station_latitude  \\\n",
       "144             Leavenworth St at Broadway             37.796471   \n",
       "195  Backesto Park (Jackson St at 13th St)             37.352887   \n",
       "608             Leavenworth St at Broadway             37.796471   \n",
       "733            Parker Ave at McAllister St             37.776101   \n",
       "780        Foothill Blvd at Harrington Ave             37.779930   \n",
       "\n",
       "     end_station_longitude  bike_id   user_type  member_birth_year  \\\n",
       "144            -122.416858     6372  Subscriber             1989.0   \n",
       "195            -121.886050     3967  Subscriber             1989.0   \n",
       "608            -122.416858     4569  Subscriber             1972.0   \n",
       "733            -122.453093     4357  Subscriber             1995.0   \n",
       "780            -122.217728     5789  Subscriber             1984.0   \n",
       "\n",
       "    member_gender  bike_share_for_all_trip  \n",
       "144          Male                    False  \n",
       "195          Male                     True  \n",
       "608          Male                    False  \n",
       "733          Male                    False  \n",
       "780          Male                    False  "
      ]
     },
     "execution_count": 48,
     "metadata": {},
     "output_type": "execute_result"
    }
   ],
   "source": [
    "# filter a dataframe with only top 10 listed station as start stations\n",
    "dfBottomEnd=df[df['end_station_name'].isin(bottom10endStations)]\n",
    "dfBottomEnd.head()"
   ]
  },
  {
   "cell_type": "code",
   "execution_count": 49,
   "metadata": {
    "scrolled": false
   },
   "outputs": [
    {
     "data": {
      "image/png": "[encoded data removed]",
      "text/plain": [
       "<Figure size 720x432 with 1 Axes>"
      ]
     },
     "metadata": {
      "needs_background": "light"
     },
     "output_type": "display_data"
    }
   ],
   "source": [
    "dfCounts=dfBottomEnd.end_station_name.value_counts()\n",
    "horizontalBar((15,15), dfBottomEnd, 'end_station_name', dfCounts, \"Least 10 popular stations as end station\",\"Trips number\",\"end station name\",df)"
   ]
  },
  {
   "cell_type": "markdown",
   "metadata": {},
   "source": [
    "#### Observations"
   ]
  },
  {
   "cell_type": "markdown",
   "metadata": {
    "scrolled": true
   },
   "source": [
    "The number of trips is very minimal that we got a rating of 0%. the bike rides are between 5 and 17. The least popular end station is 21st Ave at International Blvd which the third leat popular start station."
   ]
  },
  {
   "cell_type": "markdown",
   "metadata": {},
   "source": [
    "### Discuss the distribution(s) of your variable(s) of interest. Were there any unusual points? Did you need to perform any transformations?\n",
    "\n",
    "> <ul>\n",
    "    <li>There are some bike rides which exceeds 2hours</li>\n",
    "    <li>Thursday is the weekday with the most bike trips which cannot be explained</li>\n",
    "    <li>Age distribution included more elders than youth</li>\n",
    "    </ul> \n",
    "    </br>\n",
    "> To draw number of trips for each weekday, I needed to use numpy API to retrive weekdays from the datetime columns\n",
    "### Of the features you investigated, were there any unusual distributions? Did you perform any operations on the data to tidy, adjust, or change the form of the data? If so, why did you do this?\n",
    "\n",
    "> <ul>\n",
    "    <li>Birth year member column included users which are older then 100 years old. This seems illogic. Hence, I opted to remove entries for users aged more than 70</li>\n",
    "    <li>start time and end time columns type was object. I altered it to datetime to be able extract later weekdays using numpy API</li>"
   ]
  },
  {
   "cell_type": "markdown",
   "metadata": {},
   "source": [
    "<a href=\"#toc\" role=\"button\" aria-pressed=\"true\" >⬆️Back to Table of Contents ⬆️</a>"
   ]
  },
  {
   "cell_type": "markdown",
   "metadata": {},
   "source": [
    "<a id='bi'></a>\n",
    "## Bivariate Exploration"
   ]
  },
  {
   "cell_type": "markdown",
   "metadata": {},
   "source": [
    "### 1. visualizing of the distribution of trip duration by users' ags"
   ]
  },
  {
   "cell_type": "markdown",
   "metadata": {},
   "source": [
    "#### Question\n",
    "Does the trip duration depends on the users'age?"
   ]
  },
  {
   "cell_type": "markdown",
   "metadata": {},
   "source": [
    "#### Code"
   ]
  },
  {
   "cell_type": "code",
   "execution_count": 50,
   "metadata": {
    "scrolled": false
   },
   "outputs": [
    {
     "data": {
      "image/png": "[encoded data removed]",
      "text/plain": [
       "<Figure size 720x576 with 1 Axes>"
      ]
     },
     "metadata": {
      "needs_background": "light"
     },
     "output_type": "display_data"
    }
   ],
   "source": [
    "#draw a scatter plot to visualize the corrrelation between duration and user's age\n",
    "plt.figure(figsize=(10,8))\n",
    "plt.scatter((2019-df.member_birth_year), df.duration_sec)\n",
    "plt.xlabel(\"Age(years)\")\n",
    "plt.ylabel(\"Duaration(sec)\")\n",
    "plt.title(\"Correlation between users age and trips duration\")\n",
    "plt.show()"
   ]
  },
  {
   "cell_type": "markdown",
   "metadata": {},
   "source": [
    "#### Observations"
   ]
  },
  {
   "cell_type": "markdown",
   "metadata": {
    "scrolled": true
   },
   "source": [
    "We can notice that trips duration for elders does not exceed 10000sec (around 2hours and 40minutes). Users in their early thirties ride bikes longer than other users."
   ]
  },
  {
   "cell_type": "markdown",
   "metadata": {},
   "source": [
    "### 2. visualizing trip duration by users type"
   ]
  },
  {
   "cell_type": "markdown",
   "metadata": {},
   "source": [
    "#### Question\n",
    "Who takes longer bike rides: the subscriber or the customer?"
   ]
  },
  {
   "cell_type": "markdown",
   "metadata": {},
   "source": [
    "#### Code"
   ]
  },
  {
   "cell_type": "code",
   "execution_count": 51,
   "metadata": {
    "scrolled": false
   },
   "outputs": [
    {
     "data": {
      "image/png": "[encoded data removed]",
      "text/plain": [
       "<Figure size 576x576 with 1 Axes>"
      ]
     },
     "metadata": {
      "needs_background": "light"
     },
     "output_type": "display_data"
    }
   ],
   "source": [
    "#draw a box plot to visualize which type of users take longer rides\n",
    "plt.figure(figsize=(8, 8))\n",
    "sb.boxplot(data=df, x=\"user_type\", y=\"duration_sec\")\n",
    "plt.xlabel(\"User type\")\n",
    "plt.ylabel(\"Duration(sec)\")\n",
    "plt.title(\"duration per type of users\")\n",
    "plt.show()"
   ]
  },
  {
   "cell_type": "markdown",
   "metadata": {},
   "source": [
    "Because of duration distribution and its variety of values, we could not visualize a clear box plot. </br>\n",
    "We are going to limit the values in y axis. I will test int to choose a value as a limit for the final chart."
   ]
  },
  {
   "cell_type": "code",
   "execution_count": 52,
   "metadata": {},
   "outputs": [
    {
     "data": {
      "image/png": "[encoded data removed]",
      "text/plain": [
       "<Figure size 720x576 with 1 Axes>"
      ]
     },
     "metadata": {
      "needs_background": "light"
     },
     "output_type": "display_data"
    }
   ],
   "source": [
    "plt.figure(figsize=(10, 8))\n",
    "sb.boxplot(data=df, x=\"user_type\", y=\"duration_sec\")\n",
    "plt.ylim([0, 3000])\n",
    "plt.xlabel(\"User type\")\n",
    "plt.ylabel(\"Duration(sec)\")\n",
    "plt.title(\"Duration per type of users\")\n",
    "plt.show()"
   ]
  },
  {
   "cell_type": "markdown",
   "metadata": {},
   "source": [
    "#### Observations"
   ]
  },
  {
   "cell_type": "markdown",
   "metadata": {
    "scrolled": true
   },
   "source": [
    "Although 90% of users are subscribers, customers take longer rides using Ford GoBike System.   "
   ]
  },
  {
   "cell_type": "markdown",
   "metadata": {},
   "source": [
    "### 3. visualizing trip duration by users gender"
   ]
  },
  {
   "cell_type": "markdown",
   "metadata": {},
   "source": [
    "#### Question\n",
    "Who takes longer bike rides: male, female or other?"
   ]
  },
  {
   "cell_type": "markdown",
   "metadata": {},
   "source": [
    "#### Code"
   ]
  },
  {
   "cell_type": "code",
   "execution_count": 53,
   "metadata": {},
   "outputs": [
    {
     "data": {
      "image/png": "[encoded data removed]",
      "text/plain": [
       "<Figure size 720x576 with 1 Axes>"
      ]
     },
     "metadata": {
      "needs_background": "light"
     },
     "output_type": "display_data"
    }
   ],
   "source": [
    "#draw a box plot to visualize which gender takes longer rides. \n",
    "#I will use the same limit for duration when I drew the box plot related to duration and user type\n",
    "plt.figure(figsize=(10, 8))\n",
    "sb.boxplot(data=df, x=\"member_gender\", y=\"duration_sec\")\n",
    "plt.ylim([0, 3000])\n",
    "plt.xlabel(\"User gender\")\n",
    "plt.ylabel(\"Duration(sec)\")\n",
    "plt.title(\"Duration per users gender\")\n",
    "plt.show()"
   ]
  },
  {
   "cell_type": "markdown",
   "metadata": {},
   "source": [
    "#### Observations"
   ]
  },
  {
   "cell_type": "markdown",
   "metadata": {
    "scrolled": true
   },
   "source": [
    "Although 74.6% of users are male, female and other take longer rides using Ford GoBike System.   "
   ]
  },
  {
   "cell_type": "markdown",
   "metadata": {},
   "source": [
    "### 4. visualizing trips number per day of the week and user type?"
   ]
  },
  {
   "cell_type": "markdown",
   "metadata": {},
   "source": [
    "#### Question\n",
    "Does users ride bikes depending on the day of the week and their type?"
   ]
  },
  {
   "cell_type": "markdown",
   "metadata": {},
   "source": [
    "#### Code"
   ]
  },
  {
   "cell_type": "code",
   "execution_count": 54,
   "metadata": {},
   "outputs": [
    {
     "data": {
      "image/png": "[encoded data removed]",
      "text/plain": [
       "<Figure size 864x576 with 1 Axes>"
      ]
     },
     "metadata": {
      "needs_background": "light"
     },
     "output_type": "display_data"
    }
   ],
   "source": [
    "#draw a countplot to be able t visualize trips number per day of the week and user type\n",
    "plt.figure(figsize=(12,8))\n",
    "dayOfWeek=df.start_time.dt.dayofweek\n",
    "sb.countplot(data=df, x=dayOfWeek, hue='user_type')\n",
    "plt.xlabel('Day of the week for start time')\n",
    "plt.ylabel('Trips number')\n",
    "plt.title(\"Trips per day of the week by user type\");\n",
    "l1=[0,1,2,3,4,5,6]\n",
    "l2=[\"Mon\",\"Tue\",\"Wed\",\"Thu\",\"Fri\",\"Sat\",\"Sun\"]\n",
    "plt.xticks(l1, l2)\n",
    "plt.show()"
   ]
  },
  {
   "cell_type": "markdown",
   "metadata": {},
   "source": [
    "#### Observations"
   ]
  },
  {
   "cell_type": "markdown",
   "metadata": {
    "scrolled": true
   },
   "source": [
    "Cusotmers behaviour is almost the same each day. However, subscribers do not use Ford GoBike System during the weekend as much as during weekdays. The highest usage day of the system is Thursay for both users' types."
   ]
  },
  {
   "cell_type": "markdown",
   "metadata": {},
   "source": [
    "### Talk about some of the relationships you observed in this part of the investigation. How did the feature(s) of interest vary with other features in the dataset?\n",
    "\n",
    "> <ul>\n",
    "    <li>We do not observe a high correlation between age and trip duration. Users in their early thirties ride bikes longer than other users.</li>\n",
    "    <li>Although 90% of users are subscribers, customers take longer rides using Ford GoBike System.</li>\n",
    "    <li>Although 74.6% of users are male, female and other take longer rides using Ford GoBike System.</li>\n",
    "  </ul>\n",
    "\n",
    "### Did you observe any interesting relationships between the other features (not the main feature(s) of interest)?\n",
    "\n",
    "> Cusotmers behaviour is almost the same each day. However, subscribers do not use Ford GoBike System during the weekend as much as during weekdays."
   ]
  },
  {
   "cell_type": "markdown",
   "metadata": {},
   "source": [
    "<a href=\"#toc\" role=\"button\" aria-pressed=\"true\" >⬆️Back to Table of Contents ⬆️</a>"
   ]
  },
  {
   "cell_type": "markdown",
   "metadata": {},
   "source": [
    "<a id='multi'></a>\n",
    "## Multivariate Exploration"
   ]
  },
  {
   "cell_type": "markdown",
   "metadata": {},
   "source": [
    "### Visualizing duration of trips per day of the week by user type"
   ]
  },
  {
   "cell_type": "markdown",
   "metadata": {},
   "source": [
    "#### Question\n",
    "I studied earler trips per day of the week by user type. I found out that customers usage rate and subsccribers usage rate during days of the week is not the same. I am wondering if the same behaviour will be reflected in their riding duration during each day of the week."
   ]
  },
  {
   "cell_type": "markdown",
   "metadata": {},
   "source": [
    "#### Code"
   ]
  },
  {
   "cell_type": "code",
   "execution_count": 55,
   "metadata": {},
   "outputs": [
    {
     "data": {
      "image/png": "[encoded data removed]",
      "text/plain": [
       "<Figure size 864x576 with 1 Axes>"
      ]
     },
     "metadata": {
      "needs_background": "light"
     },
     "output_type": "display_data"
    }
   ],
   "source": [
    "#draw a barplot to be able t visualize trips duration per day of the week and user type\n",
    "plt.figure(figsize=(12,8))\n",
    "dayOfWeek=df.start_time.dt.dayofweek\n",
    "sb.barplot(data=df, x=dayOfWeek, y='duration_sec', hue='user_type')\n",
    "plt.xlabel('Day of the week for start time')\n",
    "plt.ylabel('Duration(sec)')\n",
    "plt.title(\"Duration of trips per day of the week by user type\");\n",
    "l1=[0,1,2,3,4,5,6]\n",
    "l2=[\"Mon\",\"Tue\",\"Wed\",\"Thu\",\"Fri\",\"Sat\",\"Sun\"]\n",
    "plt.xticks(l1, l2)\n",
    "plt.show()"
   ]
  },
  {
   "cell_type": "markdown",
   "metadata": {},
   "source": [
    "#### Observations"
   ]
  },
  {
   "cell_type": "markdown",
   "metadata": {
    "scrolled": true
   },
   "source": [
    "We can notice that rides duration each day does not reflect the behaviour observed ealier with the number of trips. Subscribers tends to have steadier ride duration than customers which unexpectedly ride bikes longer during the weekends."
   ]
  },
  {
   "cell_type": "markdown",
   "metadata": {},
   "source": [
    "### Talk about some of the relationships you observed in this part of the investigation. Were there features that strengthened each other in terms of looking at your feature(s) of interest?\n",
    "\n",
    "> Yes, the tupe of users is impacting the ride duration for each day in the week.\n",
    "\n",
    "### Were there any interesting or surprising interactions between features?\n",
    "\n",
    "> Yes, though the number of trips by scbscribers is not stable, the ride duration is almost the same. Meanwhile, customers present a whole opposite behaviour.  "
   ]
  },
  {
   "cell_type": "markdown",
   "metadata": {},
   "source": [
    "<a href=\"#toc\" role=\"button\" aria-pressed=\"true\" >⬆️Back to Table of Contents ⬆️</a>"
   ]
  },
  {
   "cell_type": "markdown",
   "metadata": {},
   "source": [
    "<a id='store'></a>\n",
    "## Storing Data"
   ]
  },
  {
   "cell_type": "code",
   "execution_count": 58,
   "metadata": {},
   "outputs": [],
   "source": [
    "#save wraangled dataset to be used during explanatory analysis\n",
    "df.to_csv('clean201902-fordgobike-tripdata.csv')"
   ]
  },
  {
   "cell_type": "markdown",
   "metadata": {},
   "source": [
    "<a href=\"#toc\" role=\"button\" aria-pressed=\"true\" >⬆️Back to Table of Contents ⬆️</a>"
   ]
  },
  {
   "cell_type": "markdown",
   "metadata": {},
   "source": [
    "<a id='conclusion'></a>\n",
    "## Conclusions\n",
    "This exploration analysis allowed us to find out several dependencies between the variables and to \n",
    "wrangle the dataset using visualization. Also we could notice several unexpected entries and \n",
    "relationships:\n",
    "1. Univariate Exploration\n",
    ">- The highest usage rate of Ford GoBike System is on Thursday.\n",
    ">- In the dataset, there several entries of elders whose age is more than 100. The most of users are in their early thirties\n",
    ">- The most preferable start and end stations are almost the same\n",
    ">- The least preferable start and end stations are almost the same\n",
    "2. Bivariate Exploration\n",
    ">- People in their thirties are not only the most ones using Ford GoBike System. They are also the ones enjoying longer bike rides.\n",
    ">- Although 90% of users are subscribers, customers take longer rides using Ford GoBike System.\n",
    ">- Although 74.6% of users are male, female and other take longer rides using Ford GoBike System.\n",
    "3. Multivariate Exploration \n",
    ">Customers’ usage rate is almost the same but their rides’ duration is variable. Their longest rides happen to be in the weekends which represent the lowest usage rate.\n",
    "On the other hand, subscribers, the most users of the system, use the system in the opposite way\n"
   ]
  }
 ],
 "metadata": {
  "kernelspec": {
   "display_name": "Python 3 (ipykernel)",
   "language": "python",
   "name": "python3"
  },
  "language_info": {
   "codemirror_mode": {
    "name": "ipython",
    "version": 3
   },
   "file_extension": ".py",
   "mimetype": "text/x-python",
   "name": "python",
   "nbconvert_exporter": "python",
   "pygments_lexer": "ipython3",
   "version": "3.9.12"
  }
 },
 "nbformat": 4,
 "nbformat_minor": 2
}
